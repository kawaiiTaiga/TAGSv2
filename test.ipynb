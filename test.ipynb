{
 "cells": [
  {
   "attachments": {},
   "cell_type": "markdown",
   "metadata": {},
   "source": [
    "Generation 과정 분산처리"
   ]
  },
  {
   "cell_type": "code",
   "execution_count": 1,
   "metadata": {},
   "outputs": [
    {
     "name": "stderr",
     "output_type": "stream",
     "text": [
      "/home/nlp-04/anaconda3/envs/kkm/lib/python3.11/site-packages/tqdm/auto.py:21: TqdmWarning: IProgress not found. Please update jupyter and ipywidgets. See https://ipywidgets.readthedocs.io/en/stable/user_install.html\n",
      "  from .autonotebook import tqdm as notebook_tqdm\n"
     ]
    }
   ],
   "source": [
    "import random\n",
    "import torch\n",
    "from Generation.generation_model import Generation_model\n",
    "from utils import *\n",
    "import asyncio\n",
    "from transformers import AutoProcessor, AutoModelForCausalLM\n",
    "from huggingface_hub import hf_hub_download\n",
    "from PIL import Image\n",
    "import torch\n",
    "from transformers import AutoTokenizer, LlamaForCausalLM,LlamaTokenizer\n",
    "from datasets import load_dataset\n",
    "\n",
    "class Generation_model():\n",
    "    def __init__(self, device) -> None:\n",
    "        self.device = torch.device(f\"cuda:{device}\" if torch.cuda.is_available() else \"cpu\")\n",
    "        self.model =  LlamaForCausalLM.from_pretrained(\"chavinlo/alpaca-native\",low_cpu_mem_usage=True,torch_dtype='auto').to(self.device)\n",
    "        self.tokenizer = LlamaTokenizer.from_pretrained(\"chavinlo/alpaca-native\")\n",
    "        self.device_number = device\n",
    "    def generate(self,input_samples):\n",
    "        candidate_list = []\n",
    "        #placeholders  = \"'{}',\"* 1\n",
    "        #formatted_prompt = f\"prompt promp\" + placeholders + \"PROMPT PROMPT {}\".format(input_samples) \n",
    "        #print(input_samples)\n",
    "        #for input_sample in input_samples:\n",
    "            #prompt = formatted_prompt.format(*input_sample[1])\n",
    "        formatted_prompt = input_samples\n",
    "        inputs = self.tokenizer.encode(formatted_prompt,return_tensors=\"pt\").to(self.device)\n",
    "        candidate_senetnces = self.model.generate(inputs,max_new_tokens = 30) #make to candidate format\n",
    "        text = self.tokenizer.decode(*candidate_senetnces)\n",
    "       \n",
    "        return text\n",
    "        \n"
   ]
  },
  {
   "cell_type": "code",
   "execution_count": 22,
   "metadata": {},
   "outputs": [
    {
     "name": "stderr",
     "output_type": "stream",
     "text": [
      "Loading checkpoint shards: 100%|██████████| 3/3 [00:07<00:00,  2.34s/it]\n"
     ]
    }
   ],
   "source": [
    "import random\n",
    "import torch\n",
    "from Generation.generation_model import Generation_model\n",
    "from utils import *\n",
    "import asyncio\n",
    "from transformers import AutoProcessor, AutoModelForCausalLM\n",
    "from huggingface_hub import hf_hub_download\n",
    "from PIL import Image\n",
    "import torch\n",
    "from transformers import AutoTokenizer, LlamaForCausalLM,LlamaTokenizer\n",
    "from datasets import load_dataset\n",
    "\n",
    "model =  LlamaForCausalLM.from_pretrained(\"chavinlo/alpaca-native\",low_cpu_mem_usage=True,torch_dtype='auto').to(\"cuda:0\")\n",
    "tokenizer = LlamaTokenizer.from_pretrained(\"chavinlo/alpaca-native\")"
   ]
  },
  {
   "attachments": {},
   "cell_type": "markdown",
   "metadata": {},
   "source": [
    "pubmed20k"
   ]
  },
  {
   "cell_type": "code",
   "execution_count": 2,
   "metadata": {},
   "outputs": [
    {
     "ename": "NameError",
     "evalue": "name 'tokenizer' is not defined",
     "output_type": "error",
     "traceback": [
      "\u001b[0;31m---------------------------------------------------------------------------\u001b[0m",
      "\u001b[0;31mNameError\u001b[0m                                 Traceback (most recent call last)",
      "Cell \u001b[0;32mIn[2], line 4\u001b[0m\n\u001b[1;32m      2\u001b[0m \u001b[39minput\u001b[39m \u001b[39m=\u001b[39m \u001b[39m\"\"\"\u001b[39m\u001b[39m'\u001b[39m\u001b[39mTo compare the effectiveness of adding cyclobenzaprine , tizanidine , or placebo to patient education and a self-care management program for patients with myofascial pain and specifically presenting with jaw pain upon awakening .\u001b[39m\u001b[39m'\u001b[39m\u001b[39m,\u001b[39m\u001b[39m'\u001b[39m\u001b[39mTo evaluate the efficacy and long-term safety of linagliptin added to basal insulin in Asian patients with type 2 diabetes mellitus ( T2DM ) inadequately controlled by basal insulin with/without oral agents .\u001b[39m\u001b[39m'\u001b[39m\u001b[39m\"\"\"\u001b[39m\n\u001b[1;32m      3\u001b[0m prompt \u001b[39m=\u001b[39m \u001b[39mf\u001b[39m\u001b[39m\"\u001b[39m\u001b[39mBelow is an instruction that describes a task, paired with an input that provides further context. Write a response that appropriately completes the request.\u001b[39m\u001b[39m\\n\u001b[39;00m\u001b[39m\\n\u001b[39;00m\u001b[39m### Instruction:\u001b[39m\u001b[39m\\n\u001b[39;00m\u001b[39m{\u001b[39;00minstruction\u001b[39m}\u001b[39;00m\u001b[39m\\n\u001b[39;00m\u001b[39m\\n\u001b[39;00m\u001b[39m### Input:\u001b[39m\u001b[39m\\n\u001b[39;00m\u001b[39m{\u001b[39;00m\u001b[39minput\u001b[39m\u001b[39m}\u001b[39;00m\u001b[39m\\n\u001b[39;00m\u001b[39m\\n\u001b[39;00m\u001b[39m### Response:\u001b[39m\u001b[39m\"\u001b[39m\n\u001b[0;32m----> 4\u001b[0m inputs \u001b[39m=\u001b[39m tokenizer\u001b[39m.\u001b[39mencode(prompt,return_tensors\u001b[39m=\u001b[39m\u001b[39m\"\u001b[39m\u001b[39mpt\u001b[39m\u001b[39m\"\u001b[39m)\u001b[39m.\u001b[39mto(\u001b[39m\"\u001b[39m\u001b[39mcuda\u001b[39m\u001b[39m\"\u001b[39m)\n\u001b[1;32m      5\u001b[0m candidate_senetnces \u001b[39m=\u001b[39m model\u001b[39m.\u001b[39mgenerate(inputs,max_new_tokens \u001b[39m=\u001b[39m \u001b[39m200\u001b[39m,repetition_penalty \u001b[39m=\u001b[39m \u001b[39m1.3\u001b[39m) \u001b[39m#make to candidate format\u001b[39;00m\n\u001b[1;32m      6\u001b[0m text \u001b[39m=\u001b[39m tokenizer\u001b[39m.\u001b[39mdecode(\u001b[39m*\u001b[39mcandidate_senetnces)\n",
      "\u001b[0;31mNameError\u001b[0m: name 'tokenizer' is not defined"
     ]
    }
   ],
   "source": [
    "\n",
    "instruction = \"Input sentences are part of a 'OBJECTIVE' in different medical papers. Please create five senetences in 'OBJECTIVE' part put new knowledge irrelevant with input sentences. Separate each sentence like 'sentence a:'\"\n",
    "input = \"\"\"'To compare the effectiveness of adding cyclobenzaprine , tizanidine , or placebo to patient education and a self-care management program for patients with myofascial pain and specifically presenting with jaw pain upon awakening .','To evaluate the efficacy and long-term safety of linagliptin added to basal insulin in Asian patients with type 2 diabetes mellitus ( T2DM ) inadequately controlled by basal insulin with/without oral agents .'\"\"\"\n",
    "prompt = f\"Below is an instruction that describes a task, paired with an input that provides further context. Write a response that appropriately completes the request.\\n\\n### Instruction:\\n{instruction}\\n\\n### Input:\\n{input}\\n\\n### Response:\"\n",
    "inputs = tokenizer.encode(prompt,return_tensors=\"pt\").to(\"cuda\")\n",
    "candidate_senetnces = model.generate(inputs,max_new_tokens = 200,repetition_penalty = 1.3) #make to candidate format\n",
    "text = tokenizer.decode(*candidate_senetnces)\n",
    "print(text)"
   ]
  },
  {
   "cell_type": "code",
   "execution_count": 4,
   "metadata": {},
   "outputs": [
    {
     "name": "stdout",
     "output_type": "stream",
     "text": [
      "['To assess the effects of exercise on blood pressure control among hypertensive adults receiving antihypertensive medications.', 'The purpose of this study was to determine whether addition of metoprolol succinate to amlodipine besylate therapy would reduce ambulatory blood pressures more than monotherapy with either agent alone.', 'This trial evaluated the efficacy and safety of empagliflozin compared to glimepiride as add-on treatment to metformin in subjects with Type 2 Diabetes Mellitus.', 'We aimed to investigate the impact of lifestyle intervention plus pharmacological treatment versus pharmacological treatment only on glycaemic control in people with newly diagnosed type 2 diabetes.', 'Our objective was to examine the association between sleep duration and cardiov']\n"
     ]
    }
   ],
   "source": [
    "import re\n",
    "\n",
    "def extract_sentences(text):\n",
    "    sentences = re.split(r'sentence [A-Za-z0-9]+:', text, flags=re.IGNORECASE)\n",
    "    sentences = [sentence.strip() for sentence in sentences if sentence.strip()]\n",
    "    return sentences\n",
    "text = 'Sentence A1: To assess the effects of exercise on blood pressure control among hypertensive adults receiving antihypertensive medications. Sentence B1: The purpose of this study was to determine whether addition of metoprolol succinate to amlodipine besylate therapy would reduce ambulatory blood pressures more than monotherapy with either agent alone. Sentence C1: This trial evaluated the efficacy and safety of empagliflozin compared to glimepiride as add-on treatment to metformin in subjects with Type 2 Diabetes Mellitus. Sentence D1: We aimed to investigate the impact of lifestyle intervention plus pharmacological treatment versus pharmacological treatment only on glycaemic control in people with newly diagnosed type 2 diabetes. Sentence E1: Our objective was to examine the association between sleep duration and cardiov'\n",
    "print(extract_sentences(text))"
   ]
  },
  {
   "cell_type": "code",
   "execution_count": 34,
   "metadata": {},
   "outputs": [
    {
     "data": {
      "text/plain": [
       "[{'label': 'METHODS', 'score': 0.48888838291168213}]"
      ]
     },
     "execution_count": 34,
     "metadata": {},
     "output_type": "execute_result"
    }
   ],
   "source": [
    "from transformers import pipeline\n",
    "\n",
    "model_tag = \"ml4pubmed/BiomedNLP-PubMedBERT-base-uncased-abstract-fulltext_pub_section\"\n",
    "classifier = pipeline(\n",
    "              'text-classification', \n",
    "              model=model_tag, \n",
    "            )\n",
    "            \n",
    "prompt = \"\"\"\n",
    "This trial evaluated the efficacy and safety of empagliflozin compared to glimepiride as add-on treatment to metformin in subjects with Type 2 Diabetes Mellitus.\n",
    "\"\"\"\n",
    "\n",
    "classifier(\n",
    "    prompt,\n",
    ")"
   ]
  },
  {
   "cell_type": "code",
   "execution_count": 17,
   "metadata": {},
   "outputs": [
    {
     "name": "stdout",
     "output_type": "stream",
     "text": [
      "  Below is an instruction that describes a task, paired with an input that provides further context. Write a response that appropriately completes the request.\n",
      "\n",
      "### Instruction:\n",
      "this is sentence of medical domain paper. Change sentence of given sentence into'mehtod' part sentence\n",
      "\n",
      "### Input:\n",
      "'Inflammation plays a major role in the pathogenesis of rheumatoid arthritis; anti inflammatory drugs such as steroids have long been used to treat this condition.'\n",
      "\n",
      "### Response:Methods \n",
      "• Inflammation plays a major role in the pathogenensis of rheumatoid arthritis.</s>\n"
     ]
    }
   ],
   "source": [
    "\n",
    "instruction = \"this is sentence of medical domain paper. Change sentence of given sentence into 'mehtod' part sentence\"\n",
    "input = \"\"\"'Inflammation plays a major role in the pathogenesis of rheumatoid arthritis; anti inflammatory drugs such as steroids have long been used to treat this condition.'\"\"\"\n",
    "prompt = f\"Below is an instruction that describes a task, paired with an input that provides further context. Write a response that appropriately completes the request.\\n\\n### Instruction:\\n{instruction}\\n\\n### Input:\\n{input}\\n\\n### Response:\"\n",
    "inputs = tokenizer.encode(prompt,return_tensors=\"pt\").to(\"cuda\")\n",
    "candidate_senetnces = model.generate(inputs,max_new_tokens = 200,repetition_penalty = 1.35) #make to candidate format\n",
    "text = tokenizer.decode(*candidate_senetnces)\n",
    "print(text)"
   ]
  },
  {
   "cell_type": "code",
   "execution_count": null,
   "metadata": {},
   "outputs": [],
   "source": []
  },
  {
   "cell_type": "code",
   "execution_count": 47,
   "metadata": {},
   "outputs": [
    {
     "name": "stdout",
     "output_type": "stream",
     "text": [
      "</s> Below is an instruction that describes a task, paired with an input that provides further context. Write a response that appropriately completes the request.\n",
      "\n",
      "### Instruction:\n",
      "input sentences are question about 'exchange rate', create five new question to ask about 'exchange rate',  Must be differenct with input setneces. Separate each sentence like 'sentence a:'\n",
      "\n",
      "### Input:\n",
      "'Do you have the best exchange rate?','What is the basis of your exchange rates?'\n",
      "\n",
      "### Response:Sentence A: Do you offer competitive exchange rates?\n",
      "Sentence B: How do you determine your exchange rates?\n",
      "Sentence C: What factors influence the fluctuation of exchange rates?\n",
      "Sentence D: Are there any additional fees charged for currency conversions?\n",
      "Sentence E: Is it possible to lock in an exchange rate?</s>\n"
     ]
    }
   ],
   "source": [
    "\n",
    "instruction = \"input sentences are question about 'exchange rate', create five new question to ask about 'exchange rate',  Must be differenct with input setneces. Separate each sentence like 'sentence a:'\"\n",
    "input = \"\"\"'Do you have the best exchange rate?','What is the basis of your exchange rates?'\"\"\"\n",
    "prompt = f\"Below is an instruction that describes a task, paired with an input that provides further context. Write a response that appropriately completes the request.\\n\\n### Instruction:\\n{instruction}\\n\\n### Input:\\n{input}\\n\\n### Response:\"\n",
    "inputs = tokenizer.encode(prompt,return_tensors=\"pt\").to(\"cuda\")\n",
    "candidate_senetnces = model.generate(inputs,max_new_tokens = 200,repetition_penalty = 1.2) #make to candidate format\n",
    "text = tokenizer.decode(*candidate_senetnces)\n",
    "print(text)"
   ]
  },
  {
   "cell_type": "code",
   "execution_count": 33,
   "metadata": {},
   "outputs": [
    {
     "name": "stdout",
     "output_type": "stream",
     "text": [
      "</s> Below is an instruction that describes a task, paired with an input that provides further context. Write a response that appropriately completes the request.\n",
      "\n",
      "### Instruction:\n",
      "The input sentence is one of the medical domain papers. what part of this sentence. choose one of this [OBJECTIVE, METHOD, BACKGROUND, RESULT, CONCLUSION].\n",
      "\n",
      "### Input:\n",
      "'This trial evaluated the efficacy and safety of empagliflozin compared to glimepiride as add-on treatment to metformin in subjects with Type 2 Diabetes Mellitus.'\n",
      "\n",
      "### Response:METHOD</s>\n"
     ]
    }
   ],
   "source": [
    "instruction = \"The input sentence is one of the medical domain papers. what part of this sentence. choose one of this [OBJECTIVE, METHOD, BACKGROUND, RESULT, CONCLUSION].\"\n",
    "input = \"\"\"'This trial evaluated the efficacy and safety of empagliflozin compared to glimepiride as add-on treatment to metformin in subjects with Type 2 Diabetes Mellitus.'\"\"\"\n",
    "prompt = f\"Below is an instruction that describes a task, paired with an input that provides further context. Write a response that appropriately completes the request.\\n\\n### Instruction:\\n{instruction}\\n\\n### Input:\\n{input}\\n\\n### Response:\"\n",
    "inputs = tokenizer.encode(prompt,return_tensors=\"pt\").to(\"cuda\")\n",
    "candidate_senetnces = model.generate(inputs,max_new_tokens = 10) #make to candidate format\n",
    "text = tokenizer.decode(*candidate_senetnces)\n",
    "print(text)"
   ]
  },
  {
   "cell_type": "code",
   "execution_count": 1,
   "metadata": {},
   "outputs": [
    {
     "name": "stderr",
     "output_type": "stream",
     "text": [
      "/home/nlp-04/anaconda3/envs/kkm/lib/python3.11/site-packages/tqdm/auto.py:21: TqdmWarning: IProgress not found. Please update jupyter and ipywidgets. See https://ipywidgets.readthedocs.io/en/stable/user_install.html\n",
      "  from .autonotebook import tqdm as notebook_tqdm\n",
      "Found cached dataset csv (/home/nlp-04/.cache/huggingface/datasets/ml4pubmed___csv/ml4pubmed--pubmed-classification-20k-3de662485795ef5d/0.0.0/6954658bab30a358235fa864b05cf819af0e179325c740e4bc853bcc7ec513e1)\n",
      "100%|██████████| 3/3 [00:00<00:00, 549.21it/s]\n"
     ]
    }
   ],
   "source": [
    "from Generation.generation_model import Generation_model\n",
    "from utils import *\n",
    "import asyncio\n",
    "from transformers import AutoProcessor, AutoModelForCausalLM\n",
    "from huggingface_hub import hf_hub_download\n",
    "from PIL import Image\n",
    "import torch\n",
    "from transformers import AutoTokenizer, LlamaForCausalLM,LlamaTokenizer\n",
    "from datasets import load_dataset\n",
    "\n",
    "dataset = load_dataset(\"ml4pubmed/pubmed-classification-20k\")\n",
    "original_data = preprocess_dataset(dataset['train'])\n",
    "few_dict = make_fewshot_dataset(original_data,2)\n",
    "few_data = list(few_dict.items())\n",
    "sublists_length = int(len(few_data)/2)\n",
    "sublists = [few_data[i:i+sublists_length] for i in range(0, len(few_data), sublists_length)]\n"
   ]
  },
  {
   "cell_type": "code",
   "execution_count": 9,
   "metadata": {},
   "outputs": [
    {
     "name": "stdout",
     "output_type": "stream",
     "text": [
      "{'OBJECTIVE': ['This study aimed to examine : ( 1 ) the quality of motor patterns of children with DCD participating in AVG by comparing them with children with typical development ( TD ) and ( 2 ) whether differences existed in the motor patterns utilized with 2 AVG types : Sony PlayStation 3 Move and Microsoft Xbox 360 Kinect .', 'We compared three methods of phototherapy for the treatment of moderate to severe facial acne vulgaris in Chinese patients .'], 'METHODS': ['Preparation of Anethum Graveolens boiled solution was as follows : 10g ( two tablespoons ) of seed in 100cc water boiled for 10min .', 'Pain ratings were obtained using the Faces Pain Scale-Revised , and conversation during the procedure was evaluated using the Child-Adult Medical Procedure Interaction Scale-Revised by 2 independent observers .'], 'RESULTS': ['Vorapaxar increased GUSTO moderate/severe bleeding numerically in medically managed patients ( adjusted HR 1.46 , 95 % CI 0.99-2 .15 ) .', 'At the end of experiment , chickens treated with A. annua leaf powder had the highest body weight gain ( 68.2 g/day ) , after the negative control group , and the best feed conversion ( 1.85 ) among all experimental groups .'], 'CONCLUSIONS': ['Interventions focusing on controlling risk factors and prevention of worsening of neurological function may prevent poor HRQOL in these patients .', 'The efficacies of the novel CapStrepCis regimens were very similar .'], 'BACKGROUND': ['40 subjects with type 2 diabetes and moderate to severe CP were randomly distributed to groups receiving either NSPT or OHI .', 'To confirm the robustness of the primary analysis , PFS was also evaluated by blinded independent central review ( BICR ) .']}\n"
     ]
    }
   ],
   "source": [
    "print(few_dict)"
   ]
  },
  {
   "cell_type": "code",
   "execution_count": 3,
   "metadata": {},
   "outputs": [],
   "source": [
    "from dataclasses import dataclass, field\n",
    "@dataclass\n",
    "class generationArguments:\n",
    "    model_name: str = field(\n",
    "        default=\"chavinlo/alpaca-native\",\n",
    "        metadata = {\n",
    "            \"help\": \"The path for generation model\",\n",
    "        },\n",
    "    )\n",
    "\n"
   ]
  },
  {
   "cell_type": "code",
   "execution_count": 5,
   "metadata": {},
   "outputs": [
    {
     "data": {
      "text/plain": [
       "'chavinlo/alpaca-native'"
      ]
     },
     "execution_count": 5,
     "metadata": {},
     "output_type": "execute_result"
    }
   ],
   "source": [
    "b = generationArguments()\n",
    "b.model_name"
   ]
  },
  {
   "cell_type": "code",
   "execution_count": 2,
   "metadata": {},
   "outputs": [
    {
     "name": "stderr",
     "output_type": "stream",
     "text": [
      "Loading checkpoint shards: 100%|██████████| 3/3 [00:11<00:00,  3.97s/it]\n",
      "Loading checkpoint shards: 100%|██████████| 3/3 [00:11<00:00,  3.99s/it]\n"
     ]
    }
   ],
   "source": [
    "async def generation_with_model_1(Generation_model = None):\n",
    "    return Generation_model.generate(sublists[Generation_model.device_number])\n",
    "\n",
    "models = [Generation_model(device_number) for device_number in range(2)]\n",
    "async_list = [generation_with_model_1(model) for model in models]"
   ]
  },
  {
   "cell_type": "code",
   "execution_count": 4,
   "metadata": {},
   "outputs": [
    {
     "name": "stdout",
     "output_type": "stream",
     "text": [
      "[('OBJECTIVE', ['To assess the optimal scan delays and contrast injection durations for contrast-enhanced whole-body computed tomography ( CT ) .', 'The cross-sectional FOCUS ( Fixed-Dose Combination Drug for Secondary Cardiovascular Prevention ) study ( Phase 1 ) aimed to elucidate factors that interfere with appropriate adherence to CV medications for secondary prevention after an acute MI .']), ('METHODS', ['This large , multicenter , simulated-use study evaluated whether adults ( aged 18-65 years ) , caregivers ( parents/guardians aged 18-65 years of children aged 5-17 years ) , and children ( aged 11-17 years ) , with and without experience in using an EAI , had a preference for the current design of Auvi-Q or the current design of EpiPen .', 'Forty patients were treated with RF and 40 with Cryo .'])]\n"
     ]
    },
    {
     "name": "stderr",
     "output_type": "stream",
     "text": [
      "/home/nlp-04/anaconda3/envs/kkm/lib/python3.10/site-packages/transformers/generation/utils.py:1201: UserWarning: You have modified the pretrained model configuration to control generation. This is a deprecated strategy to control generation and will be removed soon, in a future version. Please use a generation configuration file (see https://huggingface.co/docs/transformers/main_classes/text_generation)\n",
      "  warnings.warn(\n"
     ]
    },
    {
     "name": "stdout",
     "output_type": "stream",
     "text": [
      "[('RESULTS', ['We analysed the rates of stroke and systemic embolism in 6563 aspirin-treated patients with AF from the ACTIVE-A/AVERROES databases .', 'LPV/r-based ART was superior to NVP-based ART for efficacy and safety outcomes ; however , those on NVP had larger improvements in CD4 % , weight and height z-scores .']), ('CONCLUSIONS', [\"OW individuals ' brain responses to food stimuli may indicate greater reward incentive processes than either SWL or NW groups .\", 'Extended use of an alcohol-based mouthrinse is no more likely to cause reduction in salivary flow or perceived dryness in individuals with normal salivary flow compared with a non-alcohol-based mouthrinse ( CPH ) .'])]\n"
     ]
    }
   ],
   "source": [
    "async def generation_with_model_1(Generation_model = None):\n",
    "    return Generation_model.generate(sublists[Generation_model.device_number])\n",
    "    \n",
    "    await asyncio.sleep(0)\n",
    "async_list = [generation_with_model_1(model) for model in models]\n",
    "async def main():\n",
    "    results = await asyncio.gather(\n",
    "        *async_list\n",
    "    )\n",
    "    return results\n",
    "    \n",
    "\n",
    "\n",
    "result = await main()\n"
   ]
  },
  {
   "cell_type": "code",
   "execution_count": 5,
   "metadata": {},
   "outputs": [
    {
     "name": "stdout",
     "output_type": "stream",
     "text": [
      "[[['OBJECTIVE', ' prompt promp\\'{}\\',PROMPT PROMPT [(\\'OBJECTIVE\\', [\\'To assess the optimal scan delays and contrast injection durations for contrast-enhanced whole-body computed tomography ( CT ).\\', \\'The cross-sectional FOCUS ( Fixed-Dose Combination Drug for Secondary Cardiovascular Prevention ) study ( Phase 1 ) aimed to elucidate factors that interfere with appropriate adherence to CV medications for secondary prevention after an acute MI.\\']), (\\'METHODS\\', [\\'This large, multicenter, simulated-use study evaluated whether adults ( aged 18-65 years ), caregivers ( parents/guardians aged 18-65 years of children aged 5-17 years ), and children ( aged 11-17 years ), with and without experience in using an EAI, had a preference for the current design of Auvi-Q or the current design of EpiPen.\\', \\'Forty patients were treated with RF and 40 with Cryo.\\'])]\\n\\ndef extract_paragraphs(paragraphs):\\n    paragraphs_list = paragraphs.split(\"\\\\n\\\\n\")\\n    return'], ['METHODS', ' prompt promp\\'{}\\',PROMPT PROMPT [(\\'OBJECTIVE\\', [\\'To assess the optimal scan delays and contrast injection durations for contrast-enhanced whole-body computed tomography ( CT ).\\', \\'The cross-sectional FOCUS ( Fixed-Dose Combination Drug for Secondary Cardiovascular Prevention ) study ( Phase 1 ) aimed to elucidate factors that interfere with appropriate adherence to CV medications for secondary prevention after an acute MI.\\']), (\\'METHODS\\', [\\'This large, multicenter, simulated-use study evaluated whether adults ( aged 18-65 years ), caregivers ( parents/guardians aged 18-65 years of children aged 5-17 years ), and children ( aged 11-17 years ), with and without experience in using an EAI, had a preference for the current design of Auvi-Q or the current design of EpiPen.\\', \\'Forty patients were treated with RF and 40 with Cryo.\\'])]\\n\\ndef extract_paragraphs(paragraphs):\\n    paragraphs_list = paragraphs.split(\"\\\\n\\\\n\")\\n    return']], [['RESULTS', ' prompt promp\\'{}\\',PROMPT PROMPT [(\\'RESULTS\\', [\\'We analysed the rates of stroke and systemic embolism in 6563 aspirin-treated patients with AF from the ACTIVE-A/AVERROES databases.\\', \\'LPV/r-based ART was superior to NVP-based ART for efficacy and safety outcomes ; however, those on NVP had larger improvements in CD4 %, weight and height z-scores.\\']), (\\'CONCLUSIONS\\', [\"OW individuals\\'brain responses to food stimuli may indicate greater reward incentive processes than either SWL or NW groups.\", \\'Extended use of an alcohol-based mouthrinse is no more likely to cause reduction in salivary flow or perceived dryness in individuals with normal salivary flow compared with a non-alcohol-based mouthrinse ( CPH ).\\'])]\\n\\ndef extract_paragraphs(text):\\n    text_lst = text.split()\\n    return text_lst\\n\\ndef extract'], ['CONCLUSIONS', ' prompt promp\\'{}\\',PROMPT PROMPT [(\\'RESULTS\\', [\\'We analysed the rates of stroke and systemic embolism in 6563 aspirin-treated patients with AF from the ACTIVE-A/AVERROES databases.\\', \\'LPV/r-based ART was superior to NVP-based ART for efficacy and safety outcomes ; however, those on NVP had larger improvements in CD4 %, weight and height z-scores.\\']), (\\'CONCLUSIONS\\', [\"OW individuals\\'brain responses to food stimuli may indicate greater reward incentive processes than either SWL or NW groups.\", \\'Extended use of an alcohol-based mouthrinse is no more likely to cause reduction in salivary flow or perceived dryness in individuals with normal salivary flow compared with a non-alcohol-based mouthrinse ( CPH ).\\'])]\\n\\ndef extract_paragraphs(text):\\n    text_lst = text.split()\\n    return text_lst\\n\\ndef extract']]]\n"
     ]
    }
   ],
   "source": [
    "print(result)"
   ]
  },
  {
   "cell_type": "code",
   "execution_count": 6,
   "metadata": {},
   "outputs": [
    {
     "name": "stdout",
     "output_type": "stream",
     "text": [
      "['The median time to prostate-specific antigen progression was 4.7 months ( 95 % confidence interval 3.7-8 .3 ) ; the median overall survival was 11.8 months .', 'There was a weak correlation between prior contraceptive compliance and education level .']\n",
      "prompt promp'The median time to prostate-specific antigen progression was 4.7 months ( 95 % confidence interval 3.7-8 .3 ) ; the median overall survival was 11.8 months .',PROMPT PROMPT There was a weak correlation between prior contraceptive compliance and education level .\n"
     ]
    }
   ],
   "source": [
    "d = ['The median time to prostate-specific antigen progression was 4.7 months ( 95 % confidence interval 3.7-8 .3 ) ; the median overall survival was 11.8 months .', 'There was a weak correlation between prior contraceptive compliance and education level .']\n",
    "print(d)\n",
    "placeholders  = \"'{}',\"* 1\n",
    "formatted_prompt = \"prompt promp\" + placeholders + \"PROMPT PROMPT {}\" \n",
    "prompt = formatted_prompt.format(*d)\n",
    "print(prompt)"
   ]
  },
  {
   "cell_type": "code",
   "execution_count": 7,
   "metadata": {},
   "outputs": [
    {
     "ename": "NameError",
     "evalue": "name 'model1' is not defined",
     "output_type": "error",
     "traceback": [
      "\u001b[0;31m---------------------------------------------------------------------------\u001b[0m",
      "\u001b[0;31mNameError\u001b[0m                                 Traceback (most recent call last)",
      "Cell \u001b[0;32mIn[7], line 4\u001b[0m\n\u001b[1;32m      2\u001b[0m     \u001b[39mprint\u001b[39m(Generation_model\u001b[39m.\u001b[39mgenerate(\u001b[39m\"\u001b[39m\u001b[39mhello\u001b[39m\u001b[39m\"\u001b[39m))\n\u001b[1;32m      3\u001b[0m async_list \u001b[39m=\u001b[39m [generation_with_model_1(model) \u001b[39mfor\u001b[39;00m model \u001b[39min\u001b[39;00m models]\n\u001b[0;32m----> 4\u001b[0m b\u001b[39m=\u001b[39m  generation_with_model_1(model1)\n\u001b[1;32m      5\u001b[0m c \u001b[39m=\u001b[39m  generation_with_model_1(model2)\n\u001b[1;32m      6\u001b[0m \u001b[39masync\u001b[39;00m \u001b[39mdef\u001b[39;00m \u001b[39mmain\u001b[39m():\n",
      "\u001b[0;31mNameError\u001b[0m: name 'model1' is not defined"
     ]
    }
   ],
   "source": [
    "\n",
    "async def generation_with_model_1(Generation_model = None):\n",
    "    print(Generation_model.generate(\"hello\"))\n",
    "async_list = [generation_with_model_1(model) for model in models]\n",
    "b=  generation_with_model_1(model1)\n",
    "c =  generation_with_model_1(model2)\n",
    "async def main():\n",
    "    await asyncio.gather(\n",
    "        b,c\n",
    "    )\n",
    "    print(\"finsh\")\n",
    "\n",
    "\n",
    "await main()"
   ]
  },
  {
   "cell_type": "code",
   "execution_count": 4,
   "metadata": {},
   "outputs": [
    {
     "ename": "TypeError",
     "evalue": "An asyncio.Future, a coroutine or an awaitable is required",
     "output_type": "error",
     "traceback": [
      "\u001b[0;31m---------------------------------------------------------------------------\u001b[0m",
      "\u001b[0;31mTypeError\u001b[0m                                 Traceback (most recent call last)",
      "Cell \u001b[0;32mIn[4], line 1\u001b[0m\n\u001b[0;32m----> 1\u001b[0m \u001b[39mawait\u001b[39;00m main()\n",
      "Cell \u001b[0;32mIn[3], line 19\u001b[0m, in \u001b[0;36mmain\u001b[0;34m()\u001b[0m\n\u001b[1;32m     18\u001b[0m \u001b[39masync\u001b[39;00m \u001b[39mdef\u001b[39;00m \u001b[39mmain\u001b[39m():\n\u001b[0;32m---> 19\u001b[0m     \u001b[39mawait\u001b[39;00m asyncio\u001b[39m.\u001b[39;49mgather(\n\u001b[1;32m     20\u001b[0m         \u001b[39m*\u001b[39;49masync_list\n\u001b[1;32m     21\u001b[0m     )\n\u001b[1;32m     22\u001b[0m     \u001b[39mprint\u001b[39m(\u001b[39m\"\u001b[39m\u001b[39mfinsh\u001b[39m\u001b[39m\"\u001b[39m)\n",
      "File \u001b[0;32m~/anaconda/envs/kkm/lib/python3.9/asyncio/tasks.py:756\u001b[0m, in \u001b[0;36mgather\u001b[0;34m(loop, return_exceptions, *coros_or_futures)\u001b[0m\n\u001b[1;32m    751\u001b[0m \u001b[39mif\u001b[39;00m loop \u001b[39mis\u001b[39;00m \u001b[39mnot\u001b[39;00m \u001b[39mNone\u001b[39;00m:\n\u001b[1;32m    752\u001b[0m     warnings\u001b[39m.\u001b[39mwarn(\u001b[39m\"\u001b[39m\u001b[39mThe loop argument is deprecated since Python 3.8, \u001b[39m\u001b[39m\"\u001b[39m\n\u001b[1;32m    753\u001b[0m                   \u001b[39m\"\u001b[39m\u001b[39mand scheduled for removal in Python 3.10.\u001b[39m\u001b[39m\"\u001b[39m,\n\u001b[1;32m    754\u001b[0m                   \u001b[39mDeprecationWarning\u001b[39;00m, stacklevel\u001b[39m=\u001b[39m\u001b[39m2\u001b[39m)\n\u001b[0;32m--> 756\u001b[0m \u001b[39mreturn\u001b[39;00m _gather(\u001b[39m*\u001b[39;49mcoros_or_futures, loop\u001b[39m=\u001b[39;49mloop, return_exceptions\u001b[39m=\u001b[39;49mreturn_exceptions)\n",
      "File \u001b[0;32m~/anaconda/envs/kkm/lib/python3.9/asyncio/tasks.py:829\u001b[0m, in \u001b[0;36m_gather\u001b[0;34m(loop, return_exceptions, *coros_or_futures)\u001b[0m\n\u001b[1;32m    827\u001b[0m \u001b[39mfor\u001b[39;00m arg \u001b[39min\u001b[39;00m coros_or_futures:\n\u001b[1;32m    828\u001b[0m     \u001b[39mif\u001b[39;00m arg \u001b[39mnot\u001b[39;00m \u001b[39min\u001b[39;00m arg_to_fut:\n\u001b[0;32m--> 829\u001b[0m         fut \u001b[39m=\u001b[39m ensure_future(arg, loop\u001b[39m=\u001b[39;49mloop)\n\u001b[1;32m    830\u001b[0m         \u001b[39mif\u001b[39;00m loop \u001b[39mis\u001b[39;00m \u001b[39mNone\u001b[39;00m:\n\u001b[1;32m    831\u001b[0m             loop \u001b[39m=\u001b[39m futures\u001b[39m.\u001b[39m_get_loop(fut)\n",
      "File \u001b[0;32m~/anaconda/envs/kkm/lib/python3.9/asyncio/tasks.py:677\u001b[0m, in \u001b[0;36mensure_future\u001b[0;34m(coro_or_future, loop)\u001b[0m\n\u001b[1;32m    675\u001b[0m     \u001b[39mreturn\u001b[39;00m ensure_future(_wrap_awaitable(coro_or_future), loop\u001b[39m=\u001b[39mloop)\n\u001b[1;32m    676\u001b[0m \u001b[39melse\u001b[39;00m:\n\u001b[0;32m--> 677\u001b[0m     \u001b[39mraise\u001b[39;00m \u001b[39mTypeError\u001b[39;00m(\u001b[39m'\u001b[39m\u001b[39mAn asyncio.Future, a coroutine or an awaitable is \u001b[39m\u001b[39m'\u001b[39m\n\u001b[1;32m    678\u001b[0m                     \u001b[39m'\u001b[39m\u001b[39mrequired\u001b[39m\u001b[39m'\u001b[39m)\n",
      "\u001b[0;31mTypeError\u001b[0m: An asyncio.Future, a coroutine or an awaitable is required"
     ]
    }
   ],
   "source": [
    "\n",
    "await main()"
   ]
  },
  {
   "cell_type": "code",
   "execution_count": 15,
   "metadata": {},
   "outputs": [
    {
     "name": "stderr",
     "output_type": "stream",
     "text": [
      "/tmp/ipykernel_2558908/2895284244.py:3: RuntimeWarning: coroutine 'generation_with_model_1' was never awaited\n",
      "  globals()[f\"hell{a}\"] = generation_with_model_1(a)\n",
      "RuntimeWarning: Enable tracemalloc to get the object allocation traceback\n"
     ]
    }
   ],
   "source": [
    "async_list = []\n",
    "for a in range(2):\n",
    "    globals()[f\"hell{a}\"] = generation_with_model_1(a)\n",
    "    async_list.append(f\"hell{a}\")"
   ]
  },
  {
   "cell_type": "code",
   "execution_count": 7,
   "metadata": {},
   "outputs": [
    {
     "data": {
      "text/plain": [
       "'hell'"
      ]
     },
     "execution_count": 7,
     "metadata": {},
     "output_type": "execute_result"
    }
   ],
   "source": []
  },
  {
   "cell_type": "code",
   "execution_count": 1,
   "metadata": {},
   "outputs": [
    {
     "name": "stderr",
     "output_type": "stream",
     "text": [
      "/home/nlp-04/anaconda3/envs/kkm/lib/python3.10/site-packages/tqdm/auto.py:21: TqdmWarning: IProgress not found. Please update jupyter and ipywidgets. See https://ipywidgets.readthedocs.io/en/stable/user_install.html\n",
      "  from .autonotebook import tqdm as notebook_tqdm\n",
      "Found cached dataset csv (/home/nlp-04/.cache/huggingface/datasets/ml4pubmed___csv/ml4pubmed--pubmed-classification-20k-3de662485795ef5d/0.0.0/6954658bab30a358235fa864b05cf819af0e179325c740e4bc853bcc7ec513e1)\n",
      "100%|██████████| 3/3 [00:00<00:00, 469.55it/s]\n"
     ]
    }
   ],
   "source": [
    "from datasets import load_dataset\n",
    "\n",
    "dataset = load_dataset(\"ml4pubmed/pubmed-classification-20k\")"
   ]
  },
  {
   "cell_type": "code",
   "execution_count": 52,
   "metadata": {},
   "outputs": [
    {
     "ename": "KeyError",
     "evalue": "'###24854809'",
     "output_type": "error",
     "traceback": [
      "\u001b[0;31m---------------------------------------------------------------------------\u001b[0m",
      "\u001b[0;31mKeyError\u001b[0m                                  Traceback (most recent call last)",
      "Cell \u001b[0;32mIn[52], line 14\u001b[0m\n\u001b[1;32m     12\u001b[0m \u001b[39m# 리스트 순회하며 라벨에 따라 요소를 분류\u001b[39;00m\n\u001b[1;32m     13\u001b[0m \u001b[39mfor\u001b[39;00m item \u001b[39min\u001b[39;00m dataset[\u001b[39m'\u001b[39m\u001b[39mtrain\u001b[39m\u001b[39m'\u001b[39m]:\n\u001b[0;32m---> 14\u001b[0m     label_dict[item[\u001b[39m'\u001b[39;49m\u001b[39mlabel\u001b[39;49m\u001b[39m'\u001b[39;49m]]\u001b[39m.\u001b[39mappend(item[\u001b[39m'\u001b[39m\u001b[39mtext\u001b[39m\u001b[39m'\u001b[39m])\n\u001b[1;32m     16\u001b[0m \u001b[39m# 결과 출력\u001b[39;00m\n\u001b[1;32m     17\u001b[0m \u001b[39mfor\u001b[39;00m label, values \u001b[39min\u001b[39;00m label_dict\u001b[39m.\u001b[39mitems():\n",
      "\u001b[0;31mKeyError\u001b[0m: '###24854809'"
     ]
    }
   ],
   "source": [
    "labels = set()\n",
    "\n",
    "# 유니크한 라벨 추출\n",
    "for item in dataset['train']:\n",
    "    label = item['label']\n",
    "    labels.add(label)\n",
    "\n",
    "labels = ['RESULTS','METHODS','OBJECTIVE','CONCLUSIONS']\n",
    "# 라벨에 따라 요소를 분류할 딕셔너리 초기화\n",
    "label_dict = {label: [] for label in labels}\n",
    "\n",
    "# 리스트 순회하며 라벨에 따라 요소를 분류\n",
    "for item in dataset['train']:\n",
    "    label_dict[item['label']].append(item['text'])\n",
    "\n",
    "# 결과 출력\n",
    "for label, values in label_dict.items():\n",
    "    print(label + ':', values)"
   ]
  },
  {
   "cell_type": "code",
   "execution_count": 45,
   "metadata": {},
   "outputs": [],
   "source": [
    "label = list(set(get_labels(dataset)))"
   ]
  },
  {
   "cell_type": "code",
   "execution_count": 14,
   "metadata": {},
   "outputs": [
    {
     "name": "stderr",
     "output_type": "stream",
     "text": [
      "Found cached dataset csv (/home/nlp-04/.cache/huggingface/datasets/ml4pubmed___csv/ml4pubmed--pubmed-classification-20k-3de662485795ef5d/0.0.0/6954658bab30a358235fa864b05cf819af0e179325c740e4bc853bcc7ec513e1)\n",
      "100%|██████████| 3/3 [00:00<00:00, 584.33it/s]\n"
     ]
    }
   ],
   "source": [
    "from datasets import load_dataset\n",
    "\n",
    "dataset = load_dataset(\"ml4pubmed/pubmed-classification-20k\")"
   ]
  },
  {
   "cell_type": "code",
   "execution_count": 43,
   "metadata": {},
   "outputs": [],
   "source": [
    "def preprocess_dataset(dataset):\n",
    "# 레이블 정보 가져오기\n",
    "    labels = dataset['label']  # 훈련 데이터셋의 레이블 가져오기\n",
    "\n",
    "    # 레이블에 해당하는 인덱스 식별하기\n",
    "    label_indices = {}\n",
    "    for i, label in enumerate(labels):\n",
    "        if label not in label_indices:\n",
    "            label_indices[label] = []\n",
    "        label_indices[label].append(i)\n",
    "\n",
    "    # 레이블별로 데이터 저장할 리스트 생성\n",
    "    label_lists = {}\n",
    "    for label, indices in label_indices.items():\n",
    "        if len(indices) > 1:  # 데이터가 있는 경우에만 리스트 생성\n",
    "            label_lists[label] = []\n",
    "\n",
    "    # 레이블별로 데이터 저장\n",
    "    for label, indices in label_indices.items():\n",
    "        if label in label_lists:  # 데이터가 있는 레이블에 대해서만 처리\n",
    "            for index in indices:\n",
    "                data = dataset[index]  # 데이터 가져오기 (여기서는 예시로 훈련 데이터셋 사용)\n",
    "                label_lists[label].append(data['text'])\n",
    "    return label_lists"
   ]
  },
  {
   "cell_type": "code",
   "execution_count": 48,
   "metadata": {},
   "outputs": [],
   "source": [
    "b = preprocess_dataset(dataset['train'])"
   ]
  },
  {
   "cell_type": "code",
   "execution_count": 50,
   "metadata": {},
   "outputs": [],
   "source": [
    "import random\n",
    "def make_fewshot_dataset(label_lists,num_samples):\n",
    "    fewshot_data = {}\n",
    "    for label,all_data in label_lists.items():\n",
    "        few_data = random.sample(all_data,num_samples)\n",
    "        fewshot_data[label] = few_data\n",
    "    return fewshot_data\n",
    "\n"
   ]
  },
  {
   "cell_type": "code",
   "execution_count": 66,
   "metadata": {},
   "outputs": [
    {
     "data": {
      "text/plain": [
       "[[('OBJECTIVE',\n",
       "   ['To evaluate the efficacy of a combined neurolytic block of the celiac and superior hypogastric plexuses for incapacitating upper abdominal cancer pain .',\n",
       "    'To investigate the role of preoperative biometry for selecting initial contact lens power .']),\n",
       "  ('METHODS',\n",
       "   ['Children aged 9-12years from both sexes were randomly assigned to one of six groups to receive plain milk , fortified milk , plain orange juice , fortified orange juice , supplement or placebo .',\n",
       "    'Fasting blood samples were taken at baseline and after an 8-week intervention for quantification of related factors .']),\n",
       "  ('RESULTS',\n",
       "   ['No significant differences were found in the expression of sarcoplasmic reticulum Ca ( 2 + ) ATPase ( SERCA2a ) and ryanodine receptors ( RyRs ) .',\n",
       "    'In an analysis controlling for level , degree , and number of anchors , tranexamic acid reduced drain output and total blood losses .']),\n",
       "  ('CONCLUSIONS',\n",
       "   ['However , there is a need for further research to be considered as an alternative to chlorhexidine for prevention of VALP in ICU patients .',\n",
       "    '( Funded by a consortium of eight device and drug manufacturers and others ; DAPT ClinicalTrials.gov number , NCT00977938 . )'])],\n",
       " [('BACKGROUND',\n",
       "   ['Current treatments for low back pain have small effects .',\n",
       "    'Acupuncture is commonly used to reduce pain during labour despite contradictory results .'])]]"
      ]
     },
     "execution_count": 66,
     "metadata": {},
     "output_type": "execute_result"
    }
   ],
   "source": [
    "few_data = list(make_fewshot_dataset(b,2).items())\n",
    "sublists_length = 4 #class length / device lenght\n",
    "sublists = [few_data[i:i+sublists_length] for i in range(0, len(few_data), sublists_length)]\n",
    "sublists"
   ]
  },
  {
   "cell_type": "code",
   "execution_count": 7,
   "metadata": {},
   "outputs": [
    {
     "name": "stderr",
     "output_type": "stream",
     "text": [
      "Some weights of the model checkpoint at bert-base-uncased were not used when initializing BertForCL: ['cls.predictions.bias', 'cls.seq_relationship.bias', 'cls.predictions.transform.dense.bias', 'cls.predictions.transform.LayerNorm.bias', 'cls.predictions.transform.dense.weight', 'bert.pooler.dense.bias', 'cls.seq_relationship.weight', 'cls.predictions.transform.LayerNorm.weight', 'bert.pooler.dense.weight']\n",
      "- This IS expected if you are initializing BertForCL from the checkpoint of a model trained on another task or with another architecture (e.g. initializing a BertForSequenceClassification model from a BertForPreTraining model).\n",
      "- This IS NOT expected if you are initializing BertForCL from the checkpoint of a model that you expect to be exactly identical (initializing a BertForSequenceClassification model from a BertForSequenceClassification model).\n",
      "Some weights of BertForCL were not initialized from the model checkpoint at bert-base-uncased and are newly initialized: ['mlp.dense.weight', 'mlp.dense.bias']\n",
      "You should probably TRAIN this model on a down-stream task to be able to use it for predictions and inference.\n"
     ]
    },
    {
     "name": "stdout",
     "output_type": "stream",
     "text": [
      "Downloading and preparing dataset csv/default to /data/1_data_server/kkm/TAGSv2/data/csv/default-8d2b31c95c183785/0.0.0/6954658bab30a358235fa864b05cf819af0e179325c740e4bc853bcc7ec513e1...\n"
     ]
    },
    {
     "name": "stderr",
     "output_type": "stream",
     "text": [
      "Downloading data files: 100%|██████████| 1/1 [00:00<00:00, 3968.12it/s]\n",
      "Extracting data files: 100%|██████████| 1/1 [00:00<00:00, 272.84it/s]\n",
      "                                                                     \r"
     ]
    },
    {
     "name": "stdout",
     "output_type": "stream",
     "text": [
      "Dataset csv downloaded and prepared to /data/1_data_server/kkm/TAGSv2/data/csv/default-8d2b31c95c183785/0.0.0/6954658bab30a358235fa864b05cf819af0e179325c740e4bc853bcc7ec513e1. Subsequent calls will reuse this data.\n"
     ]
    },
    {
     "name": "stderr",
     "output_type": "stream",
     "text": [
      "100%|██████████| 1/1 [00:00<00:00,  5.27it/s]\n",
      "                                                                      \r"
     ]
    }
   ],
   "source": [
    "from Selection import Train_Selection_model\n",
    "\n"
   ]
  },
  {
   "cell_type": "code",
   "execution_count": 9,
   "metadata": {},
   "outputs": [
    {
     "name": "stderr",
     "output_type": "stream",
     "text": [
      "/home/nlp-04/anaconda3/envs/kkm/lib/python3.10/site-packages/transformers/optimization.py:391: FutureWarning: This implementation of AdamW is deprecated and will be removed in a future version. Use the PyTorch implementation torch.optim.AdamW instead, or set `no_deprecation_warning=True` to disable this warning\n",
      "  warnings.warn(\n",
      "07/03/2023 11:55:20 - INFO - Selection.simcse.trainers -   ***** Running training *****\n",
      "07/03/2023 11:55:20 - INFO - Selection.simcse.trainers -     Num examples = 275601\n",
      "07/03/2023 11:55:20 - INFO - Selection.simcse.trainers -     Num Epochs = 3\n",
      "07/03/2023 11:55:20 - INFO - Selection.simcse.trainers -     Instantaneous batch size per device = 8\n",
      "07/03/2023 11:55:20 - INFO - Selection.simcse.trainers -     Total train batch size (w. parallel, distributed & accumulation) = 8\n",
      "07/03/2023 11:55:20 - INFO - Selection.simcse.trainers -     Gradient Accumulation steps = 1\n",
      "07/03/2023 11:55:20 - INFO - Selection.simcse.trainers -     Total optimization steps = 103353\n",
      "You're using a BertTokenizerFast tokenizer. Please note that with a fast tokenizer, using the `__call__` method is faster than using a method to encode the text followed by a call to the `pad` method to get a padded encoding.\n"
     ]
    },
    {
     "data": {
      "text/html": [
       "\n",
       "    <div>\n",
       "      \n",
       "      <progress value='52' max='103353' style='width:300px; height:20px; vertical-align: middle;'></progress>\n",
       "      [    52/103353 00:02 < 1:30:59, 18.92 it/s, Epoch 0.00/3]\n",
       "    </div>\n",
       "    <table border=\"1\" class=\"dataframe\">\n",
       "  <thead>\n",
       " <tr style=\"text-align: left;\">\n",
       "      <th>Step</th>\n",
       "      <th>Training Loss</th>\n",
       "    </tr>\n",
       "  </thead>\n",
       "  <tbody>\n",
       "  </tbody>\n",
       "</table><p>"
      ],
      "text/plain": [
       "<IPython.core.display.HTML object>"
      ]
     },
     "metadata": {},
     "output_type": "display_data"
    },
    {
     "ename": "KeyboardInterrupt",
     "evalue": "",
     "output_type": "error",
     "traceback": [
      "\u001b[0;31m---------------------------------------------------------------------------\u001b[0m",
      "\u001b[0;31mKeyboardInterrupt\u001b[0m                         Traceback (most recent call last)",
      "Cell \u001b[0;32mIn[9], line 1\u001b[0m\n\u001b[0;32m----> 1\u001b[0m Train_Selection_model\u001b[39m.\u001b[39;49mtrain_selection_model()\n",
      "File \u001b[0;32m/data/1_data_server/kkm/TAGSv2/Selection/Train_Selection_model.py:354\u001b[0m, in \u001b[0;36mtrain_selection_model\u001b[0;34m()\u001b[0m\n\u001b[1;32m    353\u001b[0m \u001b[39mdef\u001b[39;00m \u001b[39mtrain_selection_model\u001b[39m():\n\u001b[0;32m--> 354\u001b[0m     train_result \u001b[39m=\u001b[39m trainer\u001b[39m.\u001b[39;49mtrain(model_path \u001b[39m=\u001b[39;49m \u001b[39mNone\u001b[39;49;00m)\n",
      "File \u001b[0;32m/data/1_data_server/kkm/TAGSv2/Selection/simcse/trainers.py:497\u001b[0m, in \u001b[0;36mCLTrainer.train\u001b[0;34m(self, model_path, trial)\u001b[0m\n\u001b[1;32m    495\u001b[0m     \u001b[39mself\u001b[39m\u001b[39m.\u001b[39mscaler\u001b[39m.\u001b[39mupdate()\n\u001b[1;32m    496\u001b[0m \u001b[39melse\u001b[39;00m:\n\u001b[0;32m--> 497\u001b[0m     \u001b[39mself\u001b[39;49m\u001b[39m.\u001b[39;49moptimizer\u001b[39m.\u001b[39;49mstep()\n\u001b[1;32m    499\u001b[0m \u001b[39mself\u001b[39m\u001b[39m.\u001b[39mlr_scheduler\u001b[39m.\u001b[39mstep()\n\u001b[1;32m    501\u001b[0m model\u001b[39m.\u001b[39mzero_grad()\n",
      "File \u001b[0;32m~/anaconda3/envs/kkm/lib/python3.10/site-packages/torch/optim/lr_scheduler.py:68\u001b[0m, in \u001b[0;36m_LRScheduler.__init__.<locals>.with_counter.<locals>.wrapper\u001b[0;34m(*args, **kwargs)\u001b[0m\n\u001b[1;32m     66\u001b[0m instance\u001b[39m.\u001b[39m_step_count \u001b[39m+\u001b[39m\u001b[39m=\u001b[39m \u001b[39m1\u001b[39m\n\u001b[1;32m     67\u001b[0m wrapped \u001b[39m=\u001b[39m func\u001b[39m.\u001b[39m\u001b[39m__get__\u001b[39m(instance, \u001b[39mcls\u001b[39m)\n\u001b[0;32m---> 68\u001b[0m \u001b[39mreturn\u001b[39;00m wrapped(\u001b[39m*\u001b[39;49margs, \u001b[39m*\u001b[39;49m\u001b[39m*\u001b[39;49mkwargs)\n",
      "File \u001b[0;32m~/anaconda3/envs/kkm/lib/python3.10/site-packages/torch/optim/optimizer.py:140\u001b[0m, in \u001b[0;36mOptimizer._hook_for_profile.<locals>.profile_hook_step.<locals>.wrapper\u001b[0;34m(*args, **kwargs)\u001b[0m\n\u001b[1;32m    138\u001b[0m profile_name \u001b[39m=\u001b[39m \u001b[39m\"\u001b[39m\u001b[39mOptimizer.step#\u001b[39m\u001b[39m{}\u001b[39;00m\u001b[39m.step\u001b[39m\u001b[39m\"\u001b[39m\u001b[39m.\u001b[39mformat(obj\u001b[39m.\u001b[39m\u001b[39m__class__\u001b[39m\u001b[39m.\u001b[39m\u001b[39m__name__\u001b[39m)\n\u001b[1;32m    139\u001b[0m \u001b[39mwith\u001b[39;00m torch\u001b[39m.\u001b[39mautograd\u001b[39m.\u001b[39mprofiler\u001b[39m.\u001b[39mrecord_function(profile_name):\n\u001b[0;32m--> 140\u001b[0m     out \u001b[39m=\u001b[39m func(\u001b[39m*\u001b[39;49margs, \u001b[39m*\u001b[39;49m\u001b[39m*\u001b[39;49mkwargs)\n\u001b[1;32m    141\u001b[0m     obj\u001b[39m.\u001b[39m_optimizer_step_code()\n\u001b[1;32m    142\u001b[0m     \u001b[39mreturn\u001b[39;00m out\n",
      "File \u001b[0;32m~/anaconda3/envs/kkm/lib/python3.10/site-packages/transformers/optimization.py:446\u001b[0m, in \u001b[0;36mAdamW.step\u001b[0;34m(self, closure)\u001b[0m\n\u001b[1;32m    443\u001b[0m \u001b[39m# Decay the first and second moment running average coefficient\u001b[39;00m\n\u001b[1;32m    444\u001b[0m \u001b[39m# In-place operations to update the averages at the same time\u001b[39;00m\n\u001b[1;32m    445\u001b[0m exp_avg\u001b[39m.\u001b[39mmul_(beta1)\u001b[39m.\u001b[39madd_(grad, alpha\u001b[39m=\u001b[39m(\u001b[39m1.0\u001b[39m \u001b[39m-\u001b[39m beta1))\n\u001b[0;32m--> 446\u001b[0m exp_avg_sq\u001b[39m.\u001b[39;49mmul_(beta2)\u001b[39m.\u001b[39;49maddcmul_(grad, grad, value\u001b[39m=\u001b[39;49m\u001b[39m1.0\u001b[39;49m \u001b[39m-\u001b[39;49m beta2)\n\u001b[1;32m    447\u001b[0m denom \u001b[39m=\u001b[39m exp_avg_sq\u001b[39m.\u001b[39msqrt()\u001b[39m.\u001b[39madd_(group[\u001b[39m\"\u001b[39m\u001b[39meps\u001b[39m\u001b[39m\"\u001b[39m])\n\u001b[1;32m    449\u001b[0m step_size \u001b[39m=\u001b[39m group[\u001b[39m\"\u001b[39m\u001b[39mlr\u001b[39m\u001b[39m\"\u001b[39m]\n",
      "\u001b[0;31mKeyboardInterrupt\u001b[0m: "
     ]
    }
   ],
   "source": [
    "Train_Selection_model.train_selection_model()"
   ]
  },
  {
   "cell_type": "code",
   "execution_count": 57,
   "metadata": {},
   "outputs": [
    {
     "name": "stderr",
     "output_type": "stream",
     "text": [
      "Found cached dataset csv (/data/1_data_server/kkm/TAGSv2/data/csv/default-8d2b31c95c183785/0.0.0/6954658bab30a358235fa864b05cf819af0e179325c740e4bc853bcc7ec513e1)\n"
     ]
    },
    {
     "data": {
      "application/vnd.jupyter.widget-view+json": {
       "model_id": "4202b1a26026490099010534c18a8478",
       "version_major": 2,
       "version_minor": 0
      },
      "text/plain": [
       "  0%|          | 0/1 [00:00<?, ?it/s]"
      ]
     },
     "metadata": {},
     "output_type": "display_data"
    },
    {
     "data": {
      "application/vnd.jupyter.widget-view+json": {
       "model_id": "45bfdada425c4aca95408e2a1d8814b0",
       "version_major": 2,
       "version_minor": 0
      },
      "text/plain": [
       "Downloading (…)okenizer_config.json:   0%|          | 0.00/28.0 [00:00<?, ?B/s]"
      ]
     },
     "metadata": {},
     "output_type": "display_data"
    },
    {
     "data": {
      "application/vnd.jupyter.widget-view+json": {
       "model_id": "7668acba98b84891822492a29fe9fd7d",
       "version_major": 2,
       "version_minor": 0
      },
      "text/plain": [
       "Downloading (…)solve/main/vocab.txt:   0%|          | 0.00/232k [00:00<?, ?B/s]"
      ]
     },
     "metadata": {},
     "output_type": "display_data"
    },
    {
     "data": {
      "application/vnd.jupyter.widget-view+json": {
       "model_id": "728ea0f0ab98431c98ef29fe90a8bcc9",
       "version_major": 2,
       "version_minor": 0
      },
      "text/plain": [
       "Downloading (…)/main/tokenizer.json:   0%|          | 0.00/466k [00:00<?, ?B/s]"
      ]
     },
     "metadata": {},
     "output_type": "display_data"
    }
   ],
   "source": [
    "extension = 'csv'\n",
    "datasets = load_dataset(extension, data_files='/data/1_data_server/kkm/TAGSv2/SimCSE/data/nli_for_simcse.csv', cache_dir=\"./data/\")\n",
    "tokenizer = AutoTokenizer.from_pretrained('bert-base-uncased')\n"
   ]
  },
  {
   "cell_type": "code",
   "execution_count": 58,
   "metadata": {},
   "outputs": [],
   "source": [
    "column_names = datasets[\"train\"].column_names"
   ]
  },
  {
   "cell_type": "code",
   "execution_count": 59,
   "metadata": {},
   "outputs": [
    {
     "data": {
      "text/plain": [
       "['sent0', 'sent1', 'hard_neg']"
      ]
     },
     "execution_count": 59,
     "metadata": {},
     "output_type": "execute_result"
    }
   ],
   "source": [
    "column_names"
   ]
  },
  {
   "cell_type": "code",
   "execution_count": 4,
   "metadata": {},
   "outputs": [],
   "source": [
    "from Selection import Train_Selection_model\n"
   ]
  },
  {
   "cell_type": "code",
   "execution_count": 5,
   "metadata": {},
   "outputs": [
    {
     "name": "stderr",
     "output_type": "stream",
     "text": [
      "Some weights of the model checkpoint at bert-base-uncased were not used when initializing BertForCL: ['cls.seq_relationship.bias', 'cls.predictions.transform.dense.weight', 'cls.seq_relationship.weight', 'cls.predictions.decoder.weight', 'cls.predictions.bias', 'cls.predictions.transform.LayerNorm.bias', 'bert.pooler.dense.weight', 'cls.predictions.transform.dense.bias', 'cls.predictions.transform.LayerNorm.weight', 'bert.pooler.dense.bias']\n",
      "- This IS expected if you are initializing BertForCL from the checkpoint of a model trained on another task or with another architecture (e.g. initializing a BertForSequenceClassification model from a BertForPreTraining model).\n",
      "- This IS NOT expected if you are initializing BertForCL from the checkpoint of a model that you expect to be exactly identical (initializing a BertForSequenceClassification model from a BertForSequenceClassification model).\n",
      "Some weights of BertForCL were not initialized from the model checkpoint at bert-base-uncased and are newly initialized: ['mlp.dense.weight', 'mlp.dense.bias']\n",
      "You should probably TRAIN this model on a down-stream task to be able to use it for predictions and inference.\n"
     ]
    }
   ],
   "source": [
    "selection = Train_Selection_model.selection_model()"
   ]
  },
  {
   "cell_type": "code",
   "execution_count": 6,
   "metadata": {},
   "outputs": [
    {
     "name": "stderr",
     "output_type": "stream",
     "text": [
      "07/04/2023 14:40:10 - WARNING - datasets.builder -   Found cached dataset csv (/data/1_data_server/kkm/TAGSv2/data/csv/default-8d2b31c95c183785/0.0.0/6954658bab30a358235fa864b05cf819af0e179325c740e4bc853bcc7ec513e1)\n"
     ]
    },
    {
     "data": {
      "application/vnd.jupyter.widget-view+json": {
       "model_id": "a0c827dc852f48ea82fee4ee612ff375",
       "version_major": 2,
       "version_minor": 0
      },
      "text/plain": [
       "  0%|          | 0/1 [00:00<?, ?it/s]"
      ]
     },
     "metadata": {},
     "output_type": "display_data"
    },
    {
     "data": {
      "application/vnd.jupyter.widget-view+json": {
       "model_id": "b29da6aa0665488fbffbca25e62b338c",
       "version_major": 2,
       "version_minor": 0
      },
      "text/plain": [
       "Map:   0%|          | 0/275601 [00:00<?, ? examples/s]"
      ]
     },
     "metadata": {},
     "output_type": "display_data"
    },
    {
     "name": "stderr",
     "output_type": "stream",
     "text": [
      "/home/nlp-04/anaconda/envs/kkm/lib/python3.9/site-packages/transformers/optimization.py:391: FutureWarning: This implementation of AdamW is deprecated and will be removed in a future version. Use the PyTorch implementation torch.optim.AdamW instead, or set `no_deprecation_warning=True` to disable this warning\n",
      "  warnings.warn(\n",
      "07/04/2023 14:40:38 - INFO - Selection.simcse.trainers -   ***** Running training *****\n",
      "07/04/2023 14:40:38 - INFO - Selection.simcse.trainers -     Num examples = 275601\n",
      "07/04/2023 14:40:38 - INFO - Selection.simcse.trainers -     Num Epochs = 3\n",
      "07/04/2023 14:40:38 - INFO - Selection.simcse.trainers -     Instantaneous batch size per device = 8\n",
      "07/04/2023 14:40:38 - INFO - Selection.simcse.trainers -     Total train batch size (w. parallel, distributed & accumulation) = 8\n",
      "07/04/2023 14:40:38 - INFO - Selection.simcse.trainers -     Gradient Accumulation steps = 1\n",
      "07/04/2023 14:40:38 - INFO - Selection.simcse.trainers -     Total optimization steps = 103353\n",
      "You're using a BertTokenizerFast tokenizer. Please note that with a fast tokenizer, using the `__call__` method is faster than using a method to encode the text followed by a call to the `pad` method to get a padded encoding.\n"
     ]
    },
    {
     "data": {
      "text/html": [
       "\n",
       "    <div>\n",
       "      \n",
       "      <progress value='3' max='103353' style='width:300px; height:20px; vertical-align: middle;'></progress>\n",
       "      [     3/103353 00:00 < 1:34:49, 18.17 it/s, Epoch 0.00/3]\n",
       "    </div>\n",
       "    <table border=\"1\" class=\"dataframe\">\n",
       "  <thead>\n",
       " <tr style=\"text-align: left;\">\n",
       "      <th>Step</th>\n",
       "      <th>Training Loss</th>\n",
       "    </tr>\n",
       "  </thead>\n",
       "  <tbody>\n",
       "  </tbody>\n",
       "</table><p>"
      ],
      "text/plain": [
       "<IPython.core.display.HTML object>"
      ]
     },
     "metadata": {},
     "output_type": "display_data"
    },
    {
     "ename": "KeyboardInterrupt",
     "evalue": "",
     "output_type": "error",
     "traceback": [
      "\u001b[0;31m---------------------------------------------------------------------------\u001b[0m",
      "\u001b[0;31mKeyboardInterrupt\u001b[0m                         Traceback (most recent call last)",
      "Cell \u001b[0;32mIn[6], line 1\u001b[0m\n\u001b[0;32m----> 1\u001b[0m selection\u001b[39m.\u001b[39;49mtrain()\n",
      "File \u001b[0;32m/data/1_data_server/kkm/TAGSv2/Selection/Train_Selection_model.py:448\u001b[0m, in \u001b[0;36mselection_model.train\u001b[0;34m(self)\u001b[0m\n\u001b[1;32m    446\u001b[0m trainer\u001b[39m.\u001b[39mmodel_args \u001b[39m=\u001b[39m \u001b[39mself\u001b[39m\u001b[39m.\u001b[39mmodel_args\n\u001b[1;32m    447\u001b[0m trainer\u001b[39m.\u001b[39muse_amp \u001b[39m=\u001b[39m \u001b[39mFalse\u001b[39;00m\n\u001b[0;32m--> 448\u001b[0m train_result \u001b[39m=\u001b[39m trainer\u001b[39m.\u001b[39;49mtrain()\n",
      "File \u001b[0;32m/data/1_data_server/kkm/TAGSv2/Selection/simcse/trainers.py:464\u001b[0m, in \u001b[0;36mCLTrainer.train\u001b[0;34m(self, model_path, trial)\u001b[0m\n\u001b[1;32m    462\u001b[0m         tr_loss \u001b[39m+\u001b[39m\u001b[39m=\u001b[39m \u001b[39mself\u001b[39m\u001b[39m.\u001b[39mtraining_step(model, inputs)\n\u001b[1;32m    463\u001b[0m \u001b[39melse\u001b[39;00m:\n\u001b[0;32m--> 464\u001b[0m     tr_loss \u001b[39m+\u001b[39m\u001b[39m=\u001b[39m \u001b[39mself\u001b[39;49m\u001b[39m.\u001b[39;49mtraining_step(model, inputs)\n\u001b[1;32m    465\u001b[0m \u001b[39mself\u001b[39m\u001b[39m.\u001b[39m_total_flos \u001b[39m+\u001b[39m\u001b[39m=\u001b[39m \u001b[39mself\u001b[39m\u001b[39m.\u001b[39mfloating_point_ops(inputs)\n\u001b[1;32m    467\u001b[0m \u001b[39mif\u001b[39;00m (step \u001b[39m+\u001b[39m \u001b[39m1\u001b[39m) \u001b[39m%\u001b[39m \u001b[39mself\u001b[39m\u001b[39m.\u001b[39margs\u001b[39m.\u001b[39mgradient_accumulation_steps \u001b[39m==\u001b[39m \u001b[39m0\u001b[39m \u001b[39mor\u001b[39;00m (\n\u001b[1;32m    468\u001b[0m     \u001b[39m# last step in epoch but step is always smaller than gradient_accumulation_steps\u001b[39;00m\n\u001b[1;32m    469\u001b[0m     steps_in_epoch \u001b[39m<\u001b[39m\u001b[39m=\u001b[39m \u001b[39mself\u001b[39m\u001b[39m.\u001b[39margs\u001b[39m.\u001b[39mgradient_accumulation_steps\n\u001b[1;32m    470\u001b[0m     \u001b[39mand\u001b[39;00m (step \u001b[39m+\u001b[39m \u001b[39m1\u001b[39m) \u001b[39m==\u001b[39m steps_in_epoch\n\u001b[1;32m    471\u001b[0m ):\n\u001b[1;32m    472\u001b[0m     \u001b[39m# Gradient clipping\u001b[39;00m\n",
      "File \u001b[0;32m~/anaconda/envs/kkm/lib/python3.9/site-packages/transformers/trainer.py:2717\u001b[0m, in \u001b[0;36mTrainer.training_step\u001b[0;34m(self, model, inputs)\u001b[0m\n\u001b[1;32m   2715\u001b[0m     loss \u001b[39m=\u001b[39m \u001b[39mself\u001b[39m\u001b[39m.\u001b[39mdeepspeed\u001b[39m.\u001b[39mbackward(loss)\n\u001b[1;32m   2716\u001b[0m \u001b[39melse\u001b[39;00m:\n\u001b[0;32m-> 2717\u001b[0m     loss\u001b[39m.\u001b[39;49mbackward()\n\u001b[1;32m   2719\u001b[0m \u001b[39mreturn\u001b[39;00m loss\u001b[39m.\u001b[39mdetach()\n",
      "File \u001b[0;32m~/anaconda/envs/kkm/lib/python3.9/site-packages/torch/_tensor.py:487\u001b[0m, in \u001b[0;36mTensor.backward\u001b[0;34m(self, gradient, retain_graph, create_graph, inputs)\u001b[0m\n\u001b[1;32m    477\u001b[0m \u001b[39mif\u001b[39;00m has_torch_function_unary(\u001b[39mself\u001b[39m):\n\u001b[1;32m    478\u001b[0m     \u001b[39mreturn\u001b[39;00m handle_torch_function(\n\u001b[1;32m    479\u001b[0m         Tensor\u001b[39m.\u001b[39mbackward,\n\u001b[1;32m    480\u001b[0m         (\u001b[39mself\u001b[39m,),\n\u001b[0;32m   (...)\u001b[0m\n\u001b[1;32m    485\u001b[0m         inputs\u001b[39m=\u001b[39minputs,\n\u001b[1;32m    486\u001b[0m     )\n\u001b[0;32m--> 487\u001b[0m torch\u001b[39m.\u001b[39;49mautograd\u001b[39m.\u001b[39;49mbackward(\n\u001b[1;32m    488\u001b[0m     \u001b[39mself\u001b[39;49m, gradient, retain_graph, create_graph, inputs\u001b[39m=\u001b[39;49minputs\n\u001b[1;32m    489\u001b[0m )\n",
      "File \u001b[0;32m~/anaconda/envs/kkm/lib/python3.9/site-packages/torch/autograd/__init__.py:200\u001b[0m, in \u001b[0;36mbackward\u001b[0;34m(tensors, grad_tensors, retain_graph, create_graph, grad_variables, inputs)\u001b[0m\n\u001b[1;32m    195\u001b[0m     retain_graph \u001b[39m=\u001b[39m create_graph\n\u001b[1;32m    197\u001b[0m \u001b[39m# The reason we repeat same the comment below is that\u001b[39;00m\n\u001b[1;32m    198\u001b[0m \u001b[39m# some Python versions print out the first line of a multi-line function\u001b[39;00m\n\u001b[1;32m    199\u001b[0m \u001b[39m# calls in the traceback and some print out the last line\u001b[39;00m\n\u001b[0;32m--> 200\u001b[0m Variable\u001b[39m.\u001b[39;49m_execution_engine\u001b[39m.\u001b[39;49mrun_backward(  \u001b[39m# Calls into the C++ engine to run the backward pass\u001b[39;49;00m\n\u001b[1;32m    201\u001b[0m     tensors, grad_tensors_, retain_graph, create_graph, inputs,\n\u001b[1;32m    202\u001b[0m     allow_unreachable\u001b[39m=\u001b[39;49m\u001b[39mTrue\u001b[39;49;00m, accumulate_grad\u001b[39m=\u001b[39;49m\u001b[39mTrue\u001b[39;49;00m)\n",
      "\u001b[0;31mKeyboardInterrupt\u001b[0m: "
     ]
    }
   ],
   "source": [
    "selection.train()"
   ]
  },
  {
   "cell_type": "code",
   "execution_count": 16,
   "metadata": {},
   "outputs": [],
   "source": [
    "import csv\n",
    "\n",
    "def create_contrastive_data(file_path, data_dict):\n",
    "    with open(file_path, 'w', newline='') as csvfile:\n",
    "        writer = csv.writer(csvfile,delimiter='\\t')\n",
    "        writer.writerow(['Anchor', 'Positive', 'Negative'])\n",
    "\n",
    "        for label, data_list in data_dict.items():\n",
    "            for i, anchor in enumerate(data_list):\n",
    "                positive_samples = data_list[:i] + data_list[i+1:]\n",
    "\n",
    "                for negative_label, negative_data_list in data_dict.items():\n",
    "                    if negative_label != label:\n",
    "                        for negative in negative_data_list:\n",
    "                            writer.writerow([anchor, positive_samples[0], negative])\n",
    "\n",
    "create_contrastive_data('contrastive_data.tsv',few_dict )"
   ]
  },
  {
   "cell_type": "code",
   "execution_count": 3,
   "metadata": {},
   "outputs": [
    {
     "name": "stdout",
     "output_type": "stream",
     "text": [
      "Downloading and preparing dataset csv/default to /data/1_data_server/kkm/TAGSv2/data/csv/default-b78a69759be7cf11/0.0.0/6954658bab30a358235fa864b05cf819af0e179325c740e4bc853bcc7ec513e1...\n"
     ]
    },
    {
     "name": "stderr",
     "output_type": "stream",
     "text": [
      "Downloading data files: 100%|██████████| 1/1 [00:00<00:00, 2057.04it/s]\n",
      "Extracting data files: 100%|██████████| 1/1 [00:00<00:00, 644.09it/s]\n",
      "                                                        \r"
     ]
    },
    {
     "name": "stdout",
     "output_type": "stream",
     "text": [
      "Dataset csv downloaded and prepared to /data/1_data_server/kkm/TAGSv2/data/csv/default-b78a69759be7cf11/0.0.0/6954658bab30a358235fa864b05cf819af0e179325c740e4bc853bcc7ec513e1. Subsequent calls will reuse this data.\n"
     ]
    },
    {
     "name": "stderr",
     "output_type": "stream",
     "text": [
      "100%|██████████| 1/1 [00:00<00:00, 331.88it/s]\n"
     ]
    }
   ],
   "source": [
    "from datasets import load_dataset\n",
    "datasets =  load_dataset('csv',delimiter='\\t',data_files='/data/1_data_server/kkm/TAGSv2/contrastive_data.tsv', cache_dir=\"./data/\")"
   ]
  },
  {
   "cell_type": "code",
   "execution_count": 1,
   "metadata": {},
   "outputs": [],
   "source": [
    "import random\n",
    "\n",
    "\n",
    "class Generation_model():\n",
    "    def __init__(self, device) -> None:\n",
    "        self.device = torch.device(f\"cuda:{device}\" if torch.cuda.is_available() else \"cpu\")\n",
    "        self.model =  LlamaForCausalLM.from_pretrained(\"chavinlo/alpaca-native\",low_cpu_mem_usage=True,torch_dtype='auto').to(self.device)\n",
    "        self.tokenizer = LlamaTokenizer.from_pretrained(\"chavinlo/alpaca-native\")\n",
    "        self.device_number = device\n",
    "    def generate(self,input_samples):\n",
    "        candidate_list = []\n",
    "        placeholders  = \"'{}',\"* 1\n",
    "        formatted_prompt = f\"prompt promp\" + placeholders + \"PROMPT PROMPT {}\".format(input_samples) \n",
    "        print(input_samples)\n",
    "        for input_sample in input_samples:\n",
    "            prompt = formatted_prompt.format(*input_sample[1])\n",
    "            inputs = self.tokenizer.encode(formatted_prompt,return_tensors=\"pt\").to(self.device)\n",
    "            candidate_senetnces = self.model.generate(inputs) #make to candidate format\n",
    "            text = self.tokenizer.decode(*candidate_senetnces)\n",
    "            candidate_list.append([input_sample[0],text])\n",
    "\n",
    "        return candidate_list\n",
    "        \n"
   ]
  },
  {
   "cell_type": "code",
   "execution_count": 1,
   "metadata": {},
   "outputs": [
    {
     "name": "stderr",
     "output_type": "stream",
     "text": [
      "/home/nlp-04/anaconda3/envs/kkm/lib/python3.10/site-packages/tqdm/auto.py:21: TqdmWarning: IProgress not found. Please update jupyter and ipywidgets. See https://ipywidgets.readthedocs.io/en/stable/user_install.html\n",
      "  from .autonotebook import tqdm as notebook_tqdm\n",
      "Found cached dataset csv (/home/nlp-04/.cache/huggingface/datasets/ml4pubmed___csv/ml4pubmed--pubmed-classification-20k-3de662485795ef5d/0.0.0/6954658bab30a358235fa864b05cf819af0e179325c740e4bc853bcc7ec513e1)\n",
      "100%|██████████| 3/3 [00:00<00:00, 446.46it/s]\n"
     ]
    }
   ],
   "source": [
    "from Generation.generation_model import Generation_model\n",
    "from utils import *\n",
    "import asyncio\n",
    "from transformers import AutoProcessor, AutoModelForCausalLM\n",
    "from huggingface_hub import hf_hub_download\n",
    "from PIL import Image\n",
    "import torch\n",
    "from transformers import AutoTokenizer, LlamaForCausalLM,LlamaTokenizer\n",
    "from datasets import load_dataset\n",
    "\n",
    "dataset = load_dataset(\"ml4pubmed/pubmed-classification-20k\")\n",
    "original_data = preprocess_dataset(dataset['train'])\n",
    "few_data = list(make_fewshot_dataset(original_data,2).items())\n",
    "sublists_length = int(len(few_data)/2)\n",
    "sublists = [few_data[i:i+sublists_length] for i in range(0, len(few_data), sublists_length)]"
   ]
  },
  {
   "cell_type": "code",
   "execution_count": 2,
   "metadata": {},
   "outputs": [
    {
     "name": "stderr",
     "output_type": "stream",
     "text": [
      "Loading checkpoint shards: 100%|██████████| 3/3 [00:11<00:00,  3.97s/it]\n",
      "Loading checkpoint shards: 100%|██████████| 3/3 [00:11<00:00,  3.99s/it]\n"
     ]
    }
   ],
   "source": [
    "async def generation_with_model_1(Generation_model = None):\n",
    "    return Generation_model.generate(sublists[Generation_model.device_number])\n",
    "\n",
    "models = [Generation_model(device_number) for device_number in range(2)]\n",
    "async_list = [generation_with_model_1(model) for model in models]"
   ]
  },
  {
   "cell_type": "code",
   "execution_count": 4,
   "metadata": {},
   "outputs": [
    {
     "name": "stdout",
     "output_type": "stream",
     "text": [
      "[('OBJECTIVE', ['To assess the optimal scan delays and contrast injection durations for contrast-enhanced whole-body computed tomography ( CT ) .', 'The cross-sectional FOCUS ( Fixed-Dose Combination Drug for Secondary Cardiovascular Prevention ) study ( Phase 1 ) aimed to elucidate factors that interfere with appropriate adherence to CV medications for secondary prevention after an acute MI .']), ('METHODS', ['This large , multicenter , simulated-use study evaluated whether adults ( aged 18-65 years ) , caregivers ( parents/guardians aged 18-65 years of children aged 5-17 years ) , and children ( aged 11-17 years ) , with and without experience in using an EAI , had a preference for the current design of Auvi-Q or the current design of EpiPen .', 'Forty patients were treated with RF and 40 with Cryo .'])]\n"
     ]
    },
    {
     "name": "stderr",
     "output_type": "stream",
     "text": [
      "/home/nlp-04/anaconda3/envs/kkm/lib/python3.10/site-packages/transformers/generation/utils.py:1201: UserWarning: You have modified the pretrained model configuration to control generation. This is a deprecated strategy to control generation and will be removed soon, in a future version. Please use a generation configuration file (see https://huggingface.co/docs/transformers/main_classes/text_generation)\n",
      "  warnings.warn(\n"
     ]
    },
    {
     "name": "stdout",
     "output_type": "stream",
     "text": [
      "[('RESULTS', ['We analysed the rates of stroke and systemic embolism in 6563 aspirin-treated patients with AF from the ACTIVE-A/AVERROES databases .', 'LPV/r-based ART was superior to NVP-based ART for efficacy and safety outcomes ; however , those on NVP had larger improvements in CD4 % , weight and height z-scores .']), ('CONCLUSIONS', [\"OW individuals ' brain responses to food stimuli may indicate greater reward incentive processes than either SWL or NW groups .\", 'Extended use of an alcohol-based mouthrinse is no more likely to cause reduction in salivary flow or perceived dryness in individuals with normal salivary flow compared with a non-alcohol-based mouthrinse ( CPH ) .'])]\n"
     ]
    }
   ],
   "source": [
    "async def generation_with_model_1(Generation_model = None):\n",
    "    return Generation_model.generate(sublists[Generation_model.device_number])\n",
    "    \n",
    "    await asyncio.sleep(0)\n",
    "async_list = [generation_with_model_1(model) for model in models]\n",
    "async def main():\n",
    "    results = await asyncio.gather(\n",
    "        *async_list\n",
    "    )\n",
    "    return results\n",
    "    \n",
    "\n",
    "\n",
    "result = await main()\n"
   ]
  },
  {
   "cell_type": "code",
   "execution_count": 5,
   "metadata": {},
   "outputs": [
    {
     "name": "stdout",
     "output_type": "stream",
     "text": [
      "[[['OBJECTIVE', ' prompt promp\\'{}\\',PROMPT PROMPT [(\\'OBJECTIVE\\', [\\'To assess the optimal scan delays and contrast injection durations for contrast-enhanced whole-body computed tomography ( CT ).\\', \\'The cross-sectional FOCUS ( Fixed-Dose Combination Drug for Secondary Cardiovascular Prevention ) study ( Phase 1 ) aimed to elucidate factors that interfere with appropriate adherence to CV medications for secondary prevention after an acute MI.\\']), (\\'METHODS\\', [\\'This large, multicenter, simulated-use study evaluated whether adults ( aged 18-65 years ), caregivers ( parents/guardians aged 18-65 years of children aged 5-17 years ), and children ( aged 11-17 years ), with and without experience in using an EAI, had a preference for the current design of Auvi-Q or the current design of EpiPen.\\', \\'Forty patients were treated with RF and 40 with Cryo.\\'])]\\n\\ndef extract_paragraphs(paragraphs):\\n    paragraphs_list = paragraphs.split(\"\\\\n\\\\n\")\\n    return'], ['METHODS', ' prompt promp\\'{}\\',PROMPT PROMPT [(\\'OBJECTIVE\\', [\\'To assess the optimal scan delays and contrast injection durations for contrast-enhanced whole-body computed tomography ( CT ).\\', \\'The cross-sectional FOCUS ( Fixed-Dose Combination Drug for Secondary Cardiovascular Prevention ) study ( Phase 1 ) aimed to elucidate factors that interfere with appropriate adherence to CV medications for secondary prevention after an acute MI.\\']), (\\'METHODS\\', [\\'This large, multicenter, simulated-use study evaluated whether adults ( aged 18-65 years ), caregivers ( parents/guardians aged 18-65 years of children aged 5-17 years ), and children ( aged 11-17 years ), with and without experience in using an EAI, had a preference for the current design of Auvi-Q or the current design of EpiPen.\\', \\'Forty patients were treated with RF and 40 with Cryo.\\'])]\\n\\ndef extract_paragraphs(paragraphs):\\n    paragraphs_list = paragraphs.split(\"\\\\n\\\\n\")\\n    return']], [['RESULTS', ' prompt promp\\'{}\\',PROMPT PROMPT [(\\'RESULTS\\', [\\'We analysed the rates of stroke and systemic embolism in 6563 aspirin-treated patients with AF from the ACTIVE-A/AVERROES databases.\\', \\'LPV/r-based ART was superior to NVP-based ART for efficacy and safety outcomes ; however, those on NVP had larger improvements in CD4 %, weight and height z-scores.\\']), (\\'CONCLUSIONS\\', [\"OW individuals\\'brain responses to food stimuli may indicate greater reward incentive processes than either SWL or NW groups.\", \\'Extended use of an alcohol-based mouthrinse is no more likely to cause reduction in salivary flow or perceived dryness in individuals with normal salivary flow compared with a non-alcohol-based mouthrinse ( CPH ).\\'])]\\n\\ndef extract_paragraphs(text):\\n    text_lst = text.split()\\n    return text_lst\\n\\ndef extract'], ['CONCLUSIONS', ' prompt promp\\'{}\\',PROMPT PROMPT [(\\'RESULTS\\', [\\'We analysed the rates of stroke and systemic embolism in 6563 aspirin-treated patients with AF from the ACTIVE-A/AVERROES databases.\\', \\'LPV/r-based ART was superior to NVP-based ART for efficacy and safety outcomes ; however, those on NVP had larger improvements in CD4 %, weight and height z-scores.\\']), (\\'CONCLUSIONS\\', [\"OW individuals\\'brain responses to food stimuli may indicate greater reward incentive processes than either SWL or NW groups.\", \\'Extended use of an alcohol-based mouthrinse is no more likely to cause reduction in salivary flow or perceived dryness in individuals with normal salivary flow compared with a non-alcohol-based mouthrinse ( CPH ).\\'])]\\n\\ndef extract_paragraphs(text):\\n    text_lst = text.split()\\n    return text_lst\\n\\ndef extract']]]\n"
     ]
    }
   ],
   "source": [
    "print(result)"
   ]
  },
  {
   "cell_type": "code",
   "execution_count": 6,
   "metadata": {},
   "outputs": [
    {
     "name": "stdout",
     "output_type": "stream",
     "text": [
      "['The median time to prostate-specific antigen progression was 4.7 months ( 95 % confidence interval 3.7-8 .3 ) ; the median overall survival was 11.8 months .', 'There was a weak correlation between prior contraceptive compliance and education level .']\n",
      "prompt promp'The median time to prostate-specific antigen progression was 4.7 months ( 95 % confidence interval 3.7-8 .3 ) ; the median overall survival was 11.8 months .',PROMPT PROMPT There was a weak correlation between prior contraceptive compliance and education level .\n"
     ]
    }
   ],
   "source": [
    "d = ['The median time to prostate-specific antigen progression was 4.7 months ( 95 % confidence interval 3.7-8 .3 ) ; the median overall survival was 11.8 months .', 'There was a weak correlation between prior contraceptive compliance and education level .']\n",
    "print(d)\n",
    "placeholders  = \"'{}',\"* 1\n",
    "formatted_prompt = \"prompt promp\" + placeholders + \"PROMPT PROMPT {}\" \n",
    "prompt = formatted_prompt.format(*d)\n",
    "print(prompt)"
   ]
  },
  {
   "cell_type": "code",
   "execution_count": 7,
   "metadata": {},
   "outputs": [
    {
     "ename": "NameError",
     "evalue": "name 'model1' is not defined",
     "output_type": "error",
     "traceback": [
      "\u001b[0;31m---------------------------------------------------------------------------\u001b[0m",
      "\u001b[0;31mNameError\u001b[0m                                 Traceback (most recent call last)",
      "Cell \u001b[0;32mIn[7], line 4\u001b[0m\n\u001b[1;32m      2\u001b[0m     \u001b[39mprint\u001b[39m(Generation_model\u001b[39m.\u001b[39mgenerate(\u001b[39m\"\u001b[39m\u001b[39mhello\u001b[39m\u001b[39m\"\u001b[39m))\n\u001b[1;32m      3\u001b[0m async_list \u001b[39m=\u001b[39m [generation_with_model_1(model) \u001b[39mfor\u001b[39;00m model \u001b[39min\u001b[39;00m models]\n\u001b[0;32m----> 4\u001b[0m b\u001b[39m=\u001b[39m  generation_with_model_1(model1)\n\u001b[1;32m      5\u001b[0m c \u001b[39m=\u001b[39m  generation_with_model_1(model2)\n\u001b[1;32m      6\u001b[0m \u001b[39masync\u001b[39;00m \u001b[39mdef\u001b[39;00m \u001b[39mmain\u001b[39m():\n",
      "\u001b[0;31mNameError\u001b[0m: name 'model1' is not defined"
     ]
    }
   ],
   "source": [
    "\n",
    "async def generation_with_model_1(Generation_model = None):\n",
    "    print(Generation_model.generate(\"hello\"))\n",
    "async_list = [generation_with_model_1(model) for model in models]\n",
    "b=  generation_with_model_1(model1)\n",
    "c =  generation_with_model_1(model2)\n",
    "async def main():\n",
    "    await asyncio.gather(\n",
    "        b,c\n",
    "    )\n",
    "    print(\"finsh\")\n",
    "\n",
    "\n",
    "await main()"
   ]
  },
  {
   "cell_type": "code",
   "execution_count": 4,
   "metadata": {},
   "outputs": [
    {
     "ename": "TypeError",
     "evalue": "An asyncio.Future, a coroutine or an awaitable is required",
     "output_type": "error",
     "traceback": [
      "\u001b[0;31m---------------------------------------------------------------------------\u001b[0m",
      "\u001b[0;31mTypeError\u001b[0m                                 Traceback (most recent call last)",
      "Cell \u001b[0;32mIn[4], line 1\u001b[0m\n\u001b[0;32m----> 1\u001b[0m \u001b[39mawait\u001b[39;00m main()\n",
      "Cell \u001b[0;32mIn[3], line 19\u001b[0m, in \u001b[0;36mmain\u001b[0;34m()\u001b[0m\n\u001b[1;32m     18\u001b[0m \u001b[39masync\u001b[39;00m \u001b[39mdef\u001b[39;00m \u001b[39mmain\u001b[39m():\n\u001b[0;32m---> 19\u001b[0m     \u001b[39mawait\u001b[39;00m asyncio\u001b[39m.\u001b[39;49mgather(\n\u001b[1;32m     20\u001b[0m         \u001b[39m*\u001b[39;49masync_list\n\u001b[1;32m     21\u001b[0m     )\n\u001b[1;32m     22\u001b[0m     \u001b[39mprint\u001b[39m(\u001b[39m\"\u001b[39m\u001b[39mfinsh\u001b[39m\u001b[39m\"\u001b[39m)\n",
      "File \u001b[0;32m~/anaconda/envs/kkm/lib/python3.9/asyncio/tasks.py:756\u001b[0m, in \u001b[0;36mgather\u001b[0;34m(loop, return_exceptions, *coros_or_futures)\u001b[0m\n\u001b[1;32m    751\u001b[0m \u001b[39mif\u001b[39;00m loop \u001b[39mis\u001b[39;00m \u001b[39mnot\u001b[39;00m \u001b[39mNone\u001b[39;00m:\n\u001b[1;32m    752\u001b[0m     warnings\u001b[39m.\u001b[39mwarn(\u001b[39m\"\u001b[39m\u001b[39mThe loop argument is deprecated since Python 3.8, \u001b[39m\u001b[39m\"\u001b[39m\n\u001b[1;32m    753\u001b[0m                   \u001b[39m\"\u001b[39m\u001b[39mand scheduled for removal in Python 3.10.\u001b[39m\u001b[39m\"\u001b[39m,\n\u001b[1;32m    754\u001b[0m                   \u001b[39mDeprecationWarning\u001b[39;00m, stacklevel\u001b[39m=\u001b[39m\u001b[39m2\u001b[39m)\n\u001b[0;32m--> 756\u001b[0m \u001b[39mreturn\u001b[39;00m _gather(\u001b[39m*\u001b[39;49mcoros_or_futures, loop\u001b[39m=\u001b[39;49mloop, return_exceptions\u001b[39m=\u001b[39;49mreturn_exceptions)\n",
      "File \u001b[0;32m~/anaconda/envs/kkm/lib/python3.9/asyncio/tasks.py:829\u001b[0m, in \u001b[0;36m_gather\u001b[0;34m(loop, return_exceptions, *coros_or_futures)\u001b[0m\n\u001b[1;32m    827\u001b[0m \u001b[39mfor\u001b[39;00m arg \u001b[39min\u001b[39;00m coros_or_futures:\n\u001b[1;32m    828\u001b[0m     \u001b[39mif\u001b[39;00m arg \u001b[39mnot\u001b[39;00m \u001b[39min\u001b[39;00m arg_to_fut:\n\u001b[0;32m--> 829\u001b[0m         fut \u001b[39m=\u001b[39m ensure_future(arg, loop\u001b[39m=\u001b[39;49mloop)\n\u001b[1;32m    830\u001b[0m         \u001b[39mif\u001b[39;00m loop \u001b[39mis\u001b[39;00m \u001b[39mNone\u001b[39;00m:\n\u001b[1;32m    831\u001b[0m             loop \u001b[39m=\u001b[39m futures\u001b[39m.\u001b[39m_get_loop(fut)\n",
      "File \u001b[0;32m~/anaconda/envs/kkm/lib/python3.9/asyncio/tasks.py:677\u001b[0m, in \u001b[0;36mensure_future\u001b[0;34m(coro_or_future, loop)\u001b[0m\n\u001b[1;32m    675\u001b[0m     \u001b[39mreturn\u001b[39;00m ensure_future(_wrap_awaitable(coro_or_future), loop\u001b[39m=\u001b[39mloop)\n\u001b[1;32m    676\u001b[0m \u001b[39melse\u001b[39;00m:\n\u001b[0;32m--> 677\u001b[0m     \u001b[39mraise\u001b[39;00m \u001b[39mTypeError\u001b[39;00m(\u001b[39m'\u001b[39m\u001b[39mAn asyncio.Future, a coroutine or an awaitable is \u001b[39m\u001b[39m'\u001b[39m\n\u001b[1;32m    678\u001b[0m                     \u001b[39m'\u001b[39m\u001b[39mrequired\u001b[39m\u001b[39m'\u001b[39m)\n",
      "\u001b[0;31mTypeError\u001b[0m: An asyncio.Future, a coroutine or an awaitable is required"
     ]
    }
   ],
   "source": [
    "\n",
    "await main()"
   ]
  },
  {
   "cell_type": "code",
   "execution_count": 15,
   "metadata": {},
   "outputs": [
    {
     "name": "stderr",
     "output_type": "stream",
     "text": [
      "/tmp/ipykernel_2558908/2895284244.py:3: RuntimeWarning: coroutine 'generation_with_model_1' was never awaited\n",
      "  globals()[f\"hell{a}\"] = generation_with_model_1(a)\n",
      "RuntimeWarning: Enable tracemalloc to get the object allocation traceback\n"
     ]
    }
   ],
   "source": [
    "async_list = []\n",
    "for a in range(2):\n",
    "    globals()[f\"hell{a}\"] = generation_with_model_1(a)\n",
    "    async_list.append(f\"hell{a}\")"
   ]
  },
  {
   "cell_type": "code",
   "execution_count": 7,
   "metadata": {},
   "outputs": [
    {
     "data": {
      "text/plain": [
       "'hell'"
      ]
     },
     "execution_count": 7,
     "metadata": {},
     "output_type": "execute_result"
    }
   ],
   "source": []
  },
  {
   "cell_type": "code",
   "execution_count": 1,
   "metadata": {},
   "outputs": [
    {
     "name": "stderr",
     "output_type": "stream",
     "text": [
      "/home/nlp-04/anaconda3/envs/kkm/lib/python3.10/site-packages/tqdm/auto.py:21: TqdmWarning: IProgress not found. Please update jupyter and ipywidgets. See https://ipywidgets.readthedocs.io/en/stable/user_install.html\n",
      "  from .autonotebook import tqdm as notebook_tqdm\n",
      "Found cached dataset csv (/home/nlp-04/.cache/huggingface/datasets/ml4pubmed___csv/ml4pubmed--pubmed-classification-20k-3de662485795ef5d/0.0.0/6954658bab30a358235fa864b05cf819af0e179325c740e4bc853bcc7ec513e1)\n",
      "100%|██████████| 3/3 [00:00<00:00, 469.55it/s]\n"
     ]
    }
   ],
   "source": [
    "from datasets import load_dataset\n",
    "\n",
    "dataset = load_dataset(\"ml4pubmed/pubmed-classification-20k\")"
   ]
  },
  {
   "cell_type": "code",
   "execution_count": 52,
   "metadata": {},
   "outputs": [
    {
     "ename": "KeyError",
     "evalue": "'###24854809'",
     "output_type": "error",
     "traceback": [
      "\u001b[0;31m---------------------------------------------------------------------------\u001b[0m",
      "\u001b[0;31mKeyError\u001b[0m                                  Traceback (most recent call last)",
      "Cell \u001b[0;32mIn[52], line 14\u001b[0m\n\u001b[1;32m     12\u001b[0m \u001b[39m# 리스트 순회하며 라벨에 따라 요소를 분류\u001b[39;00m\n\u001b[1;32m     13\u001b[0m \u001b[39mfor\u001b[39;00m item \u001b[39min\u001b[39;00m dataset[\u001b[39m'\u001b[39m\u001b[39mtrain\u001b[39m\u001b[39m'\u001b[39m]:\n\u001b[0;32m---> 14\u001b[0m     label_dict[item[\u001b[39m'\u001b[39;49m\u001b[39mlabel\u001b[39;49m\u001b[39m'\u001b[39;49m]]\u001b[39m.\u001b[39mappend(item[\u001b[39m'\u001b[39m\u001b[39mtext\u001b[39m\u001b[39m'\u001b[39m])\n\u001b[1;32m     16\u001b[0m \u001b[39m# 결과 출력\u001b[39;00m\n\u001b[1;32m     17\u001b[0m \u001b[39mfor\u001b[39;00m label, values \u001b[39min\u001b[39;00m label_dict\u001b[39m.\u001b[39mitems():\n",
      "\u001b[0;31mKeyError\u001b[0m: '###24854809'"
     ]
    }
   ],
   "source": [
    "labels = set()\n",
    "\n",
    "# 유니크한 라벨 추출\n",
    "for item in dataset['train']:\n",
    "    label = item['label']\n",
    "    labels.add(label)\n",
    "\n",
    "labels = ['RESULTS','METHODS','OBJECTIVE','CONCLUSIONS']\n",
    "# 라벨에 따라 요소를 분류할 딕셔너리 초기화\n",
    "label_dict = {label: [] for label in labels}\n",
    "\n",
    "# 리스트 순회하며 라벨에 따라 요소를 분류\n",
    "for item in dataset['train']:\n",
    "    label_dict[item['label']].append(item['text'])\n",
    "\n",
    "# 결과 출력\n",
    "for label, values in label_dict.items():\n",
    "    print(label + ':', values)"
   ]
  },
  {
   "cell_type": "code",
   "execution_count": 45,
   "metadata": {},
   "outputs": [],
   "source": [
    "label = list(set(get_labels(dataset)))"
   ]
  },
  {
   "cell_type": "code",
   "execution_count": 14,
   "metadata": {},
   "outputs": [
    {
     "name": "stderr",
     "output_type": "stream",
     "text": [
      "Found cached dataset csv (/home/nlp-04/.cache/huggingface/datasets/ml4pubmed___csv/ml4pubmed--pubmed-classification-20k-3de662485795ef5d/0.0.0/6954658bab30a358235fa864b05cf819af0e179325c740e4bc853bcc7ec513e1)\n",
      "100%|██████████| 3/3 [00:00<00:00, 584.33it/s]\n"
     ]
    }
   ],
   "source": [
    "from datasets import load_dataset\n",
    "\n",
    "dataset = load_dataset(\"ml4pubmed/pubmed-classification-20k\")"
   ]
  },
  {
   "cell_type": "code",
   "execution_count": 43,
   "metadata": {},
   "outputs": [],
   "source": [
    "def preprocess_dataset(dataset):\n",
    "# 레이블 정보 가져오기\n",
    "    labels = dataset['label']  # 훈련 데이터셋의 레이블 가져오기\n",
    "\n",
    "    # 레이블에 해당하는 인덱스 식별하기\n",
    "    label_indices = {}\n",
    "    for i, label in enumerate(labels):\n",
    "        if label not in label_indices:\n",
    "            label_indices[label] = []\n",
    "        label_indices[label].append(i)\n",
    "\n",
    "    # 레이블별로 데이터 저장할 리스트 생성\n",
    "    label_lists = {}\n",
    "    for label, indices in label_indices.items():\n",
    "        if len(indices) > 1:  # 데이터가 있는 경우에만 리스트 생성\n",
    "            label_lists[label] = []\n",
    "\n",
    "    # 레이블별로 데이터 저장\n",
    "    for label, indices in label_indices.items():\n",
    "        if label in label_lists:  # 데이터가 있는 레이블에 대해서만 처리\n",
    "            for index in indices:\n",
    "                data = dataset[index]  # 데이터 가져오기 (여기서는 예시로 훈련 데이터셋 사용)\n",
    "                label_lists[label].append(data['text'])\n",
    "    return label_lists"
   ]
  },
  {
   "cell_type": "code",
   "execution_count": 48,
   "metadata": {},
   "outputs": [],
   "source": [
    "b = preprocess_dataset(dataset['train'])"
   ]
  },
  {
   "cell_type": "code",
   "execution_count": 50,
   "metadata": {},
   "outputs": [],
   "source": [
    "import random\n",
    "def make_fewshot_dataset(label_lists,num_samples):\n",
    "    fewshot_data = {}\n",
    "    for label,all_data in label_lists.items():\n",
    "        few_data = random.sample(all_data,num_samples)\n",
    "        fewshot_data[label] = few_data\n",
    "    return fewshot_data\n",
    "\n"
   ]
  },
  {
   "cell_type": "code",
   "execution_count": 66,
   "metadata": {},
   "outputs": [
    {
     "data": {
      "text/plain": [
       "[[('OBJECTIVE',\n",
       "   ['To evaluate the efficacy of a combined neurolytic block of the celiac and superior hypogastric plexuses for incapacitating upper abdominal cancer pain .',\n",
       "    'To investigate the role of preoperative biometry for selecting initial contact lens power .']),\n",
       "  ('METHODS',\n",
       "   ['Children aged 9-12years from both sexes were randomly assigned to one of six groups to receive plain milk , fortified milk , plain orange juice , fortified orange juice , supplement or placebo .',\n",
       "    'Fasting blood samples were taken at baseline and after an 8-week intervention for quantification of related factors .']),\n",
       "  ('RESULTS',\n",
       "   ['No significant differences were found in the expression of sarcoplasmic reticulum Ca ( 2 + ) ATPase ( SERCA2a ) and ryanodine receptors ( RyRs ) .',\n",
       "    'In an analysis controlling for level , degree , and number of anchors , tranexamic acid reduced drain output and total blood losses .']),\n",
       "  ('CONCLUSIONS',\n",
       "   ['However , there is a need for further research to be considered as an alternative to chlorhexidine for prevention of VALP in ICU patients .',\n",
       "    '( Funded by a consortium of eight device and drug manufacturers and others ; DAPT ClinicalTrials.gov number , NCT00977938 . )'])],\n",
       " [('BACKGROUND',\n",
       "   ['Current treatments for low back pain have small effects .',\n",
       "    'Acupuncture is commonly used to reduce pain during labour despite contradictory results .'])]]"
      ]
     },
     "execution_count": 66,
     "metadata": {},
     "output_type": "execute_result"
    }
   ],
   "source": [
    "few_data = list(make_fewshot_dataset(b,2).items())\n",
    "sublists_length = 4 #class length / device lenght\n",
    "sublists = [few_data[i:i+sublists_length] for i in range(0, len(few_data), sublists_length)]\n",
    "sublists"
   ]
  },
  {
   "cell_type": "code",
   "execution_count": 43,
   "metadata": {},
   "outputs": [
    {
     "name": "stderr",
     "output_type": "stream",
     "text": [
      "Some weights of the model checkpoint at /data/1_data_server/kkm/TAGSv2/result/checkpoint-50 were not used when initializing BertModel: ['mlp.dense.weight', 'mlp.dense.bias']\n",
      "- This IS expected if you are initializing BertModel from the checkpoint of a model trained on another task or with another architecture (e.g. initializing a BertForSequenceClassification model from a BertForPreTraining model).\n",
      "- This IS NOT expected if you are initializing BertModel from the checkpoint of a model that you expect to be exactly identical (initializing a BertForSequenceClassification model from a BertForSequenceClassification model).\n",
      "Some weights of BertModel were not initialized from the model checkpoint at /data/1_data_server/kkm/TAGSv2/result/checkpoint-50 and are newly initialized: ['bert.pooler.dense.weight', 'bert.pooler.dense.bias']\n",
      "You should probably TRAIN this model on a down-stream task to be able to use it for predictions and inference.\n"
     ]
    },
    {
     "name": "stdout",
     "output_type": "stream",
     "text": [
      "Cosine similarity between \"To evaluate the efficacy and long-term safety of linagliptin added to basal insulin in Asian patients with type 2 diabetes mellitus ( T2DM ) inadequately controlled by basal insulin with/without oral agents .\" and \"To compare the effectiveness of adding cyclobenzaprine , tizanidine , or placebo to patient education and a self-care management program for patients with myofascial pain and specifically presenting with jaw pain upon awakening .\" is: 0.940\n",
      "Cosine similarity between \"To evaluate the efficacy and long-term safety of linagliptin added to basal insulin in Asian patients with type 2 diabetes mellitus ( T2DM ) inadequately controlled by basal insulin with/without oral agents .\" and \"This trial evaluated the efficacy and safety of empagliflozin compared to glimepiride as add-on treatment to metformin in subjects with Type 2 Diabetes Mellitus.\" is: 0.933\n"
     ]
    }
   ],
   "source": [
    "import torch\n",
    "from scipy.spatial.distance import cosine\n",
    "from transformers import AutoModel, AutoTokenizer\n",
    "\n",
    "Path = '/data/1_data_server/kkm/TAGSv2/result/checkpoint-50'\n",
    "tokenizer = AutoTokenizer.from_pretrained('bert-base-uncased')\n",
    "device = 'cuda'\n",
    "model_for_compare = AutoModel.from_pretrained(Path).to(device=device, non_blocking=True)\n",
    "\n",
    "texts = [\n",
    "    \"To evaluate the efficacy and long-term safety of linagliptin added to basal insulin in Asian patients with type 2 diabetes mellitus ( T2DM ) inadequately controlled by basal insulin with/without oral agents .\",\n",
    "    \"To compare the effectiveness of adding cyclobenzaprine , tizanidine , or placebo to patient education and a self-care management program for patients with myofascial pain and specifically presenting with jaw pain upon awakening .\",\n",
    "    \"This trial evaluated the efficacy and safety of empagliflozin compared to glimepiride as add-on treatment to metformin in subjects with Type 2 Diabetes Mellitus.\",\n",
    "    \"We studied the analgesia provided by a lidocaine/tetracaine patch compared to injectable lidocaine during incision and drainage ( I&D ) of skin abscesses .\"\n",
    "]\n",
    "inputs = tokenizer(texts, padding=True, truncation=True, return_tensors=\"pt\").to(device= device)\n",
    "\n",
    "\n",
    "# Get the embeddings\n",
    "with torch.no_grad():\n",
    "    embeddings = model_for_compare(**inputs, output_hidden_states=True, return_dict=True).pooler_output.cpu()\n",
    "\n",
    "# Calculate cosine similarities\n",
    "# Cosine similarities are in [-1, 1]. Higher means more similar\n",
    "cosine_sim_0_1 = 1 - cosine(embeddings[0], embeddings[1])\n",
    "cosine_sim_0_2 = 1 - cosine(embeddings[0], embeddings[2])\n",
    "\n",
    "print(\"Cosine similarity between \\\"%s\\\" and \\\"%s\\\" is: %.3f\" % (texts[0], texts[1], cosine_sim_0_1))\n",
    "print(\"Cosine similarity between \\\"%s\\\" and \\\"%s\\\" is: %.3f\" % (texts[0], texts[2], cosine_sim_0_2))"
   ]
  },
  {
   "cell_type": "code",
   "execution_count": 53,
   "metadata": {},
   "outputs": [
    {
     "data": {
      "text/plain": [
       "Parameter containing:\n",
       "tensor([-2.5578e-02, -1.9762e-02,  2.4464e-02,  8.9046e-02, -6.2867e-02,\n",
       "        -1.3122e-02,  1.3072e-02, -1.2388e-02,  4.2745e-03,  3.5011e-02,\n",
       "        -4.7748e-02, -1.3761e-02,  4.6714e-03, -1.0351e-01, -7.5751e-02,\n",
       "         2.6834e-02, -2.0559e-02, -4.3415e-02, -5.6481e-02, -8.6584e-02,\n",
       "        -8.3513e-03, -3.6880e-02, -4.3302e-02, -2.3370e-02,  1.9864e-02,\n",
       "        -6.5447e-03, -6.1685e-02, -4.6689e-02,  3.5560e-03, -5.5016e-03,\n",
       "        -4.0606e-02, -1.0464e-01, -3.0832e-02, -4.7563e-02, -5.1416e-02,\n",
       "         5.2637e-02, -6.1255e-03, -6.3060e-02, -3.2766e-02, -1.0008e-02,\n",
       "        -2.6092e-02,  3.3052e-02,  2.3757e-02, -3.7957e-02, -7.1284e-02,\n",
       "         1.9527e-02, -4.7985e-02, -2.5503e-02, -1.0550e-01,  4.5951e-03,\n",
       "        -2.8748e-02, -5.9268e-02,  1.2232e-02,  1.2567e-01, -5.6493e-02,\n",
       "        -7.5983e-02, -3.8981e-02,  6.9706e-03, -6.4116e-02, -4.7138e-02,\n",
       "        -2.1067e-02, -4.0381e-02, -7.6950e-02, -5.0533e-02,  3.0166e-02,\n",
       "         2.6789e-02, -4.1366e-02, -9.2141e-02, -4.4704e-02, -1.9270e-02,\n",
       "        -5.7430e-02, -3.4396e-03,  3.6005e-03, -1.6187e-02,  2.3726e-02,\n",
       "        -4.8041e-02,  1.0168e-02, -1.0454e-01, -4.8217e-02,  7.3580e-03,\n",
       "        -1.9746e-02, -4.2030e-02, -7.4654e-02, -5.6235e-04, -5.0174e-02,\n",
       "        -6.0000e-02, -4.1983e-02, -1.5380e-02, -6.5372e-02,  1.4198e-02,\n",
       "        -5.2921e-02, -2.6846e-02, -8.8374e-02, -9.3707e-02, -7.9463e-03,\n",
       "        -7.5386e-03, -6.6043e-03,  1.2347e-02, -7.2700e-04,  4.9929e-02,\n",
       "        -1.4812e-02,  9.6807e-03, -2.7109e-02, -8.8562e-03, -2.5992e-02,\n",
       "        -5.1485e-02,  6.4865e-03, -4.6629e-03, -4.2295e-02, -8.6487e-02,\n",
       "         1.0471e-01, -4.4891e-02, -8.1035e-04,  4.8972e-02, -6.6446e-02,\n",
       "        -6.6001e-02, -6.2669e-02, -4.3446e-03, -1.2595e-02, -3.4455e-02,\n",
       "        -3.1231e-02,  6.1511e-01, -5.7093e-02, -3.1442e-02,  3.6617e-02,\n",
       "        -1.2557e-02, -4.1671e-02,  7.6643e-02, -4.8034e-02,  5.3713e-03,\n",
       "        -3.1053e-02, -1.0866e-03,  2.2365e-02, -8.7974e-02,  2.3148e-02,\n",
       "        -8.3605e-03, -3.7868e-03, -2.6890e-02, -2.7145e-02,  1.3005e-01,\n",
       "        -1.5368e-03, -5.2298e-02, -4.4737e-02, -1.1277e-02, -7.6611e-02,\n",
       "         6.3104e-01, -2.8122e-02,  1.8337e-02,  1.4208e-02,  1.1393e-02,\n",
       "        -1.5953e-02, -3.2686e-03,  7.8403e-02, -2.1058e-02, -1.7754e-02,\n",
       "        -1.6873e-02, -2.1944e-02,  2.1922e-03,  7.3326e-03, -1.7655e-01,\n",
       "        -2.2102e-04, -4.8959e-02, -1.0596e-02,  1.9873e-02, -2.7791e-02,\n",
       "        -1.5452e-02, -2.5062e-02, -1.0716e-01,  1.8761e-01,  2.7044e-02,\n",
       "        -5.7333e-02, -5.7058e-02, -7.7124e-02, -8.6768e-04, -2.9259e-02,\n",
       "        -5.5539e-01, -7.3089e-02, -2.8191e-02, -9.1903e-02, -5.4827e-02,\n",
       "        -9.9727e-03, -2.3849e-02,  2.2113e-02,  1.1925e-02, -3.9551e-02,\n",
       "        -4.2866e-02, -7.0193e-02, -8.3995e-02, -1.5920e-02, -3.8617e-02,\n",
       "        -9.7574e-03,  2.3696e-02, -2.8219e-02,  4.9650e-02, -3.4921e-03,\n",
       "         4.8777e-03, -1.4512e-02, -4.7392e-02,  5.6251e-02,  2.6009e-02,\n",
       "        -2.2798e-02, -1.2741e-01, -4.1788e-02, -1.7215e-02,  3.3786e-02,\n",
       "        -6.6089e-02, -5.1186e-02, -1.2612e-02,  4.5316e-02, -5.0777e-02,\n",
       "        -3.7962e-03,  1.1379e-02, -9.1246e-02, -3.1817e-02, -3.3329e-02,\n",
       "        -8.1726e-02, -8.7093e-02, -5.0048e-02, -3.7156e-02, -7.4866e-02,\n",
       "        -8.2589e-02, -1.7251e-03, -4.0111e-02, -4.0250e-02,  2.5924e-02,\n",
       "        -1.1117e-01, -5.3929e-02, -4.9801e-03, -4.8604e-02,  3.3556e-02,\n",
       "        -8.2612e-03,  1.7931e-02,  4.1269e-02,  2.0184e-02,  8.8883e-03,\n",
       "        -2.1862e-02, -4.0312e-02, -1.0631e-01, -3.6907e-02,  1.2677e-02,\n",
       "        -2.1939e-02,  2.8861e-03, -3.4983e-02, -5.4521e-03,  1.8857e-02,\n",
       "        -1.2678e-01,  8.6134e-03,  2.7681e-02, -4.0076e-02,  1.8568e-02,\n",
       "        -5.5554e-03, -1.6356e-02,  1.7395e-02, -9.9510e-02, -5.7470e-02,\n",
       "        -5.2403e-02,  1.6688e-02, -4.9077e-02, -4.7077e-02, -5.9825e-02,\n",
       "        -3.3640e-02, -2.1910e-02, -6.7885e-02, -2.7872e-03, -4.5511e-02,\n",
       "        -6.3353e-02, -6.7805e-03,  7.4912e-03, -1.1369e-02, -5.9548e-03,\n",
       "        -1.3771e-04, -3.5464e-02, -4.2602e-02, -1.4450e-02,  4.0091e-02,\n",
       "        -2.7918e-02, -7.3125e-02, -1.0255e-02, -2.2506e-02, -8.8993e-03,\n",
       "        -4.6825e-02, -3.7774e-02, -1.4509e-03, -1.5067e-01,  1.4471e-02,\n",
       "         2.0179e-02, -7.0752e-03, -8.9516e-03, -2.9734e-02, -2.1719e-02,\n",
       "        -1.8907e-02, -1.8100e-02, -1.8343e-02, -7.3963e-02, -1.1617e-02,\n",
       "        -5.4521e-02, -7.2849e-02, -5.6328e-02,  4.6630e-03,  2.7981e-02,\n",
       "        -3.2163e-02,  3.2991e-02,  9.2236e-03, -1.4325e-02,  6.1375e-03,\n",
       "        -9.2073e-02, -6.2112e-02, -2.0044e-02,  8.0209e-01,  4.2495e-03,\n",
       "         7.9624e-03, -2.6186e-03, -4.5763e-02,  3.4472e-02, -5.8137e-02,\n",
       "         4.8251e-02, -3.0608e-02, -9.6113e-03, -2.2416e-02, -4.1668e-02,\n",
       "        -3.2437e-02, -4.6148e-02, -3.0403e-02,  1.2148e-02, -4.0730e-02,\n",
       "        -5.1616e-02, -4.2036e-02, -6.0884e-02, -1.6660e-02, -4.4981e-02,\n",
       "        -5.2510e-02, -8.4189e-02,  4.1842e-02,  1.4663e-02, -6.3747e-03,\n",
       "        -7.0441e-02, -4.4987e-02, -1.0373e-03, -2.9249e-02,  1.9633e-02,\n",
       "        -3.2864e-02, -5.5836e-03, -3.4661e-02, -1.8328e-02, -3.8218e-02,\n",
       "         4.2226e-02, -3.3735e-03,  1.6606e-02, -2.5911e-02, -5.7388e-02,\n",
       "         2.9718e-02, -1.9768e-02, -5.3268e-02, -1.5364e-01,  5.8896e-03,\n",
       "         3.9553e-02,  6.9188e-03, -6.4594e-02, -5.8860e-03, -5.3113e-02,\n",
       "        -3.7198e-02, -3.0557e-02, -5.5439e-02, -1.4160e-02, -4.3980e-02,\n",
       "        -1.3937e-02,  2.0310e-03, -6.2605e-02, -9.5343e-03, -2.9635e-02,\n",
       "        -4.6771e-02, -2.8308e-02, -5.4142e-02, -1.5417e-02,  3.7755e-02,\n",
       "        -7.8320e-03, -1.2518e-02, -3.1694e-02,  2.9133e-02, -6.3279e-02,\n",
       "        -4.3773e-02,  8.2693e-02,  3.2633e-03, -5.6220e-02, -1.3229e-03,\n",
       "        -4.9168e-02, -3.3594e-02, -1.6929e-03, -7.9243e-02, -1.6048e-04,\n",
       "        -4.2478e-02, -5.4677e-02, -7.6334e-04, -5.3652e-02, -4.3719e-02,\n",
       "        -4.2282e-02, -2.0244e-02, -1.0136e-02,  1.1317e-02, -5.5444e-03,\n",
       "        -1.0374e-01,  8.1495e-02,  2.5071e-02, -2.1022e-02, -9.7259e-03,\n",
       "        -5.9561e-02,  1.5769e-02, -2.7958e-02, -7.2019e-02, -2.7137e-02,\n",
       "        -9.9195e-03, -5.7989e-03, -1.3176e-02,  4.5518e-02, -3.6959e-02,\n",
       "        -2.9753e-02, -3.7787e-03,  6.2639e-02, -4.7444e-02, -2.5441e-02,\n",
       "        -3.3418e-02,  3.3304e-02, -3.4778e-03, -6.3970e-02,  6.4664e-03,\n",
       "        -2.8235e-03, -2.0238e-02,  5.5084e-03, -1.7160e-02, -3.1503e-02,\n",
       "         8.8741e-03,  4.2584e-03, -2.9812e-02, -4.6836e-02, -3.2780e-02,\n",
       "        -4.3840e-02, -5.5230e-02, -3.0320e-02, -4.6401e-02,  4.6004e-03,\n",
       "        -9.8626e-02, -4.5123e-02, -1.1223e-02, -2.8068e-02, -7.3695e-02,\n",
       "         1.0591e-02,  3.6544e-03, -3.4626e-02,  3.5219e-02, -2.0920e-02,\n",
       "        -8.4975e-02, -4.2150e-02, -7.9329e-03, -3.5008e-02, -5.7351e-02,\n",
       "        -4.7428e-02, -2.8480e-02, -3.7109e-02, -2.7642e-03, -1.8024e-02,\n",
       "        -1.4566e-02, -1.0304e-01,  3.1900e-03, -2.5980e-02, -4.9285e-02,\n",
       "         3.8991e-02, -5.2503e-02, -9.2971e-02, -4.1655e-02, -4.3726e-03,\n",
       "        -4.3728e-02, -9.7567e-02, -2.4812e-03, -5.2016e-02, -1.7345e-02,\n",
       "        -1.0480e-01, -4.3356e-02,  1.8381e-02, -3.8310e-04, -1.7773e-02,\n",
       "        -2.0103e-02, -4.5533e-02, -1.4180e-01, -3.1574e-02, -6.3472e-02,\n",
       "        -3.7250e-02, -6.0521e-02, -1.3520e-02,  1.1172e-02, -1.3780e-02,\n",
       "        -2.4325e-02,  2.4933e-02, -6.5164e-02,  3.2703e-02,  2.4849e-03,\n",
       "        -4.8599e-02, -2.2471e-01, -2.6820e-02, -1.1031e-02, -4.8490e-02,\n",
       "        -5.7495e-02,  7.1677e-03, -3.0359e-02,  4.2518e-02,  2.3665e-02,\n",
       "         7.9779e-02, -3.5225e-03,  3.7790e-03, -2.9556e-02,  1.0689e-02,\n",
       "        -3.3426e-02,  5.0802e-02, -5.2344e-02, -1.1316e-02, -1.6494e-02,\n",
       "         8.2530e-03, -1.9145e-03, -7.1132e-02,  4.5944e-03, -6.0479e-02,\n",
       "         1.0100e-02, -1.7298e-02, -4.1844e-02, -4.8571e-02, -8.9418e-05,\n",
       "        -3.7484e-02, -3.3745e-02,  9.5275e-03, -2.9032e-02,  3.3906e-01,\n",
       "         1.5626e-02, -1.1970e-02,  6.2763e-03, -5.2560e-02,  1.3914e-03,\n",
       "         4.6732e-03, -1.7642e-02, -1.4508e-02, -4.7827e-02, -5.0881e-02,\n",
       "        -4.0962e-02,  5.8786e-01, -6.3775e-02, -3.2857e-02, -4.6651e-02,\n",
       "         3.4193e-02, -5.4168e-02,  8.2987e-03, -2.8499e-02, -7.9512e-02,\n",
       "        -3.3751e-02, -1.5811e-02, -4.0841e-02, -1.0949e-02, -4.7719e-02,\n",
       "        -1.9309e-03, -7.9432e-02, -6.0032e-02, -4.9258e-02,  2.9596e-02,\n",
       "        -2.1862e-02, -5.2877e-02, -3.6343e-02, -1.8514e-03, -6.2377e-02,\n",
       "        -6.6449e-02, -2.8727e-02, -4.5280e-02,  1.0069e-01, -4.4633e-02,\n",
       "        -3.4839e-02,  2.2081e-02, -3.1546e-02,  3.4482e-02, -5.1592e-02,\n",
       "        -8.3281e-02, -5.7167e-02,  1.5754e-03, -2.0314e-02, -2.6001e-02,\n",
       "        -4.4454e-02,  2.2984e-02, -3.6460e-02, -7.4768e-02, -5.3075e-02,\n",
       "        -3.3081e-02, -2.9189e-02, -7.9447e-02, -8.6125e-03, -4.6920e-03,\n",
       "        -1.6697e-02,  2.2465e-02, -2.8850e-02, -3.7605e-02, -5.4779e-02,\n",
       "        -3.4691e-02, -4.2723e-02, -7.1457e-02,  1.5380e-02, -3.0662e-02,\n",
       "        -6.1448e-02,  3.7112e-04, -1.7868e-02, -5.7808e-02, -7.1117e-02,\n",
       "        -1.5839e-03, -5.5950e-02,  1.3964e-02,  1.6456e-02, -3.7007e-02,\n",
       "         8.6010e-03, -2.2280e-02, -3.3636e-02,  1.3392e-02,  2.1264e-02,\n",
       "        -5.8764e-02, -2.1130e-02,  1.2889e-02,  2.3155e-02, -5.7153e-02,\n",
       "        -4.8772e-02, -3.1540e-02, -3.3472e-02,  1.5467e-02, -1.8015e-02,\n",
       "         1.1369e-02,  1.1175e-02, -5.8262e-02, -3.0659e-02, -7.6444e-03,\n",
       "        -1.0783e-02, -6.3748e-02, -6.7122e-02, -1.3210e-02, -3.2412e-02,\n",
       "        -6.7064e-02, -5.4034e-02, -2.7447e-02, -7.8109e-02,  5.1942e-02,\n",
       "        -2.5334e-02,  1.1346e-02,  1.3288e-02, -5.3117e-02, -4.8856e-02,\n",
       "        -2.3251e-02,  2.7669e-03, -2.5987e-02, -5.8059e-02, -6.1655e-02,\n",
       "        -1.7950e-02,  3.0212e-02, -7.1443e-05, -8.8081e-02,  4.1224e-01,\n",
       "        -5.1907e-02, -5.3685e-02,  1.5642e-02, -1.1710e-01, -2.4049e-03,\n",
       "        -1.4249e-03,  2.6293e-02, -3.5718e-02, -5.7335e-02,  3.5034e-02,\n",
       "        -4.4696e-03, -7.0812e-02, -2.1275e-02, -1.0033e-01, -8.0040e-03,\n",
       "        -1.0303e-01, -4.2208e-02, -1.3213e-04, -7.5553e-02,  1.9679e-02,\n",
       "        -3.7264e-02,  4.2959e-02,  4.9048e-03,  1.1005e-02,  1.7102e-02,\n",
       "        -4.5040e-02, -3.0376e-02,  4.8818e-03, -6.1673e-02,  4.1444e-02,\n",
       "        -3.1404e-02, -9.3832e-03,  1.2718e-02, -1.4268e-02, -8.4178e-02,\n",
       "        -7.7444e-02, -6.4573e-02, -3.2395e-02, -1.6203e-02, -2.3631e-02,\n",
       "        -1.1031e-02, -6.2407e-02, -7.5842e-02, -2.2335e-02, -2.5470e-02,\n",
       "        -2.4177e-02, -4.0176e-02,  1.8757e-02, -5.8505e-02,  9.1626e-02,\n",
       "        -6.6680e-02, -2.9220e-02, -1.1033e-01,  1.0535e-02,  5.3977e-02,\n",
       "        -5.3492e-02, -7.5763e-03,  1.9116e-02, -1.3659e-02, -6.7696e-02,\n",
       "        -8.4539e-03, -1.6183e-03, -4.6202e-02,  1.1697e-02, -2.4384e-02,\n",
       "        -1.2003e-02, -4.9928e-02, -3.1937e-02, -3.5232e-02, -1.6792e-02,\n",
       "         5.2859e-02, -4.8489e-02, -5.9538e-03,  4.1405e-02, -4.1165e-02,\n",
       "        -9.9003e-03, -4.6387e-02,  2.5343e-02, -9.7036e-03, -5.2768e-02,\n",
       "        -4.3378e-02, -5.1934e-02,  1.9208e-02,  4.4374e-02, -6.9326e-02,\n",
       "         2.5954e-02, -4.6824e-02, -4.5035e-02,  2.4257e-02, -3.9676e-02,\n",
       "        -2.1757e-02, -4.7883e-02, -1.4469e-02,  1.1546e-03, -1.0757e-01,\n",
       "        -3.0468e-02, -2.7173e-02, -4.8114e-02, -9.0141e-03,  7.9574e-03,\n",
       "        -7.7249e-02,  4.5094e-02, -2.1892e-02,  1.2144e-02, -4.7539e-02,\n",
       "        -3.0390e-02, -4.7764e-02, -3.6767e-02,  4.7141e-04, -4.9386e-02,\n",
       "        -3.0006e-02,  2.1387e-02,  3.0198e-02], device='cuda:0',\n",
       "       requires_grad=True)"
      ]
     },
     "execution_count": 53,
     "metadata": {},
     "output_type": "execute_result"
    }
   ],
   "source": [
    "params = list(model_for_compare.parameters())[4]\n",
    "params"
   ]
  },
  {
   "attachments": {},
   "cell_type": "markdown",
   "metadata": {},
   "source": [
    "이밑으로 싹다 지워 도됨\n"
   ]
  },
  {
   "cell_type": "markdown",
   "metadata": {},
   "source": []
  },
  {
   "cell_type": "code",
   "execution_count": null,
   "metadata": {},
   "outputs": [],
   "source": [
    "    datasets = load_dataset(\"ml4pubmed/pubmed-classification-20k\")\n",
    "    original_data = preprocess_dataset(datasets['train'])\n",
    "    few_dict = make_fewshot_dataset(original_data,2)\n",
    "    few_data = list(few_dict.items())\n",
    "    sublists_length = int(len(few_data)/100)\n",
    "    create_contrastive_data('contrastive_data.tsv', few_dict)"
   ]
  },
  {
   "cell_type": "code",
   "execution_count": 5,
   "metadata": {},
   "outputs": [
    {
     "name": "stderr",
     "output_type": "stream",
     "text": [
      "Downloading readme: 100%|██████████| 224/224 [00:00<00:00, 958kB/s]\n"
     ]
    },
    {
     "name": "stdout",
     "output_type": "stream",
     "text": [
      "Downloading and preparing dataset csv/ml4pubmed--pubmed-classification-20k to /home/nlp-04/.cache/huggingface/datasets/ml4pubmed___csv/ml4pubmed--pubmed-classification-20k-3de662485795ef5d/0.0.0/6954658bab30a358235fa864b05cf819af0e179325c740e4bc853bcc7ec513e1...\n"
     ]
    },
    {
     "name": "stderr",
     "output_type": "stream",
     "text": [
      "Downloading data: 100%|██████████| 29.6M/29.6M [00:00<00:00, 111MB/s]\n",
      "Downloading data: 100%|██████████| 4.96M/4.96M [00:00<00:00, 67.2MB/s]\n",
      "Downloading data: 100%|██████████| 4.92M/4.92M [00:00<00:00, 66.5MB/s]\n",
      "Downloading data files: 100%|██████████| 3/3 [00:04<00:00,  1.66s/it]\n",
      "Extracting data files: 100%|██████████| 3/3 [00:00<00:00, 2752.77it/s]\n",
      "                                                                     \r"
     ]
    },
    {
     "name": "stdout",
     "output_type": "stream",
     "text": [
      "Dataset csv downloaded and prepared to /home/nlp-04/.cache/huggingface/datasets/ml4pubmed___csv/ml4pubmed--pubmed-classification-20k-3de662485795ef5d/0.0.0/6954658bab30a358235fa864b05cf819af0e179325c740e4bc853bcc7ec513e1. Subsequent calls will reuse this data.\n"
     ]
    },
    {
     "name": "stderr",
     "output_type": "stream",
     "text": [
      "100%|██████████| 3/3 [00:00<00:00, 873.45it/s]\n"
     ]
    }
   ],
   "source": [
    "datasets = load_dataset(\"ml4pubmed/pubmed-classification-20k\")"
   ]
  },
  {
   "cell_type": "code",
   "execution_count": 8,
   "metadata": {},
   "outputs": [],
   "source": [
    "original_data = preprocess_dataset(datasets['train'])\n",
    "original_data = make_fewshot_dataset(original_data,2)"
   ]
  },
  {
   "cell_type": "code",
   "execution_count": 9,
   "metadata": {},
   "outputs": [
    {
     "data": {
      "text/plain": [
       "{'OBJECTIVE': ['In the Age-Related Eye Disease Study 1 ( AREDS 1 ) , a reduced progression to late stage AMD was found using vitamin C , E , zinc , and - carotene .',\n",
       "  'Hansen A/S ) ( hereafter , L. casei 431 ) on immune response to influenza vaccination and respiratory symptoms in healthy adults .'],\n",
       " 'METHODS': ['The primary end point is the neurological outcome 6 months post-injury on the Glasgow Outcome Scale .',\n",
       "  'The study is a randomized , controlled trial with a nonrandomized arm for patients who are eligible but decline randomization .'],\n",
       " 'RESULTS': ['All incisions were Seidel negative .',\n",
       "  'PDS patients required postoperative interventions 58.7 % of the time , including a 5-fluorouracil ( 5-FU ) injection ( 58.7 % ) , suture lysis ( 48.3 % ) , and needling ( 27.6 % ) .'],\n",
       " 'CONCLUSIONS': ['The study confirms that actively contacting women and including a date for a screening visit , notably increased participation in the screening program .',\n",
       "  'Standardized scanning and monitoring may facilitate early disease management .'],\n",
       " 'BACKGROUND': ['The best treatment option for end-stage renal disease is usually a transplant , preferably a live donor kidney transplant ( LDKT ) .',\n",
       "  'In patients receiving inhaled medication , dissatisfaction with and difficulty in using the inhaler can affect treatment adherence .']}"
      ]
     },
     "execution_count": 9,
     "metadata": {},
     "output_type": "execute_result"
    }
   ],
   "source": [
    "original_data"
   ]
  },
  {
   "cell_type": "code",
   "execution_count": 11,
   "metadata": {},
   "outputs": [],
   "source": [
    "candidate_data = {key: None for key in original_data.keys()}\n",
    "\n",
    "generated_data = {key: None for key in original_data.keys()}\n"
   ]
  },
  {
   "cell_type": "code",
   "execution_count": 12,
   "metadata": {},
   "outputs": [
    {
     "data": {
      "text/plain": [
       "{'OBJECTIVE': None,\n",
       " 'METHODS': None,\n",
       " 'RESULTS': None,\n",
       " 'CONCLUSIONS': None,\n",
       " 'BACKGROUND': None}"
      ]
     },
     "execution_count": 12,
     "metadata": {},
     "output_type": "execute_result"
    }
   ],
   "source": [
    "candidate_data"
   ]
  },
  {
   "cell_type": "code",
   "execution_count": 13,
   "metadata": {},
   "outputs": [],
   "source": [
    "instruction = \"Input sentences are part of a '{}' in different medical papers. Please create five senetences in '{}}' part put new knowledge irrelevant with input sentences. Separate each sentence like 'sentence a:'\"\n",
    "input = \"\"\"'To compare the effectiveness of adding cyclobenzaprine , tizanidine , or placebo to patient education and a self-care management program for patients with myofascial pain and specifically presenting with jaw pain upon awakening .','To evaluate the efficacy and long-term safety of linagliptin added to basal insulin in Asian patients with type 2 diabetes mellitus ( T2DM ) inadequately controlled by basal insulin with/without oral agents .'\"\"\"\n",
    "prompt = f\"Below is an instruction that describes a task, paired with an input that provides further context. Write a response that appropriately completes the request.\\n\\n### Instruction:\\n{instruction}\\n\\n### Input:\\n{input}\\n\\n### Response:\""
   ]
  },
  {
   "cell_type": "code",
   "execution_count": null,
   "metadata": {},
   "outputs": [],
   "source": []
  }
 ],
 "metadata": {
  "kernelspec": {
   "display_name": "kkm",
   "language": "python",
   "name": "python3"
  },
  "language_info": {
   "codemirror_mode": {
    "name": "ipython",
    "version": 3
   },
   "file_extension": ".py",
   "mimetype": "text/x-python",
   "name": "python",
   "nbconvert_exporter": "python",
   "pygments_lexer": "ipython3",
   "version": "3.11.4"
  },
  "orig_nbformat": 4
 },
 "nbformat": 4,
 "nbformat_minor": 2
}
